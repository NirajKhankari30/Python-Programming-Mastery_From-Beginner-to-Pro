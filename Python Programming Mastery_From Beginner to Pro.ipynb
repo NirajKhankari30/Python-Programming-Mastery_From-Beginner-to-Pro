{
 "cells": [
  {
   "cell_type": "markdown",
   "id": "bc17b91c-860d-46ff-9b03-c8c983899158",
   "metadata": {},
   "source": [
    "# Python Programming Mastery: From Beginner to Pro\n"
   ]
  },
  {
   "cell_type": "markdown",
   "id": "0ef3e6ef-0b52-4b86-a8c5-b306f11f187c",
   "metadata": {},
   "source": [
    "## Basics of Python "
   ]
  },
  {
   "cell_type": "code",
   "execution_count": 7,
   "id": "347f3256-3435-45aa-b86e-9e8f05c2a918",
   "metadata": {},
   "outputs": [
    {
     "name": "stdout",
     "output_type": "stream",
     "text": [
      "My Name is Niraj\n",
      "Hello World\n",
      "Hello Python\n",
      "25\n",
      "60\n",
      "Hello World\n",
      "Hello World 25\n",
      "False\n"
     ]
    }
   ],
   "source": [
    "print(f\"My Name is Niraj\")\n",
    "print('Hello World')\n",
    "print(\"Hello Python\")\n",
    "print(25)\n",
    "print(25+35)\n",
    "print(\"Hello\",\"World\")\n",
    "print(\"Hello\",\"World\", 25)\n",
    "print(5>10)"
   ]
  },
  {
   "cell_type": "markdown",
   "id": "37d9f48e-f3b9-4cda-af2b-3cfcc62d7b82",
   "metadata": {},
   "source": [
    "## Variables & DataTypes"
   ]
  },
  {
   "cell_type": "markdown",
   "id": "97ab8ef1-7d45-4aaf-b7f4-2b6b0d84a475",
   "metadata": {},
   "source": [
    "### Variables"
   ]
  },
  {
   "cell_type": "code",
   "execution_count": 20,
   "id": "7ac7b87b-c8fd-4021-b41a-2fa8ceb9680f",
   "metadata": {},
   "outputs": [
    {
     "name": "stdout",
     "output_type": "stream",
     "text": [
      "10\n",
      "20\n",
      "30\n"
     ]
    }
   ],
   "source": [
    "val1,val2 = 10,20\n",
    "print(val1)\n",
    "print(val2)\n",
    "print(val1+val2)\n",
    "\n",
    "# Camel Case\n",
    "firstName = \"Niraj\"\n",
    "lastName = \"Khankari\"\n",
    "\n",
    "# Other Cases\n",
    "firstname = \"Niraj\"\n",
    "last_name = \"Khankari\"\n",
    "FirstName = \"Niraj\""
   ]
  },
  {
   "cell_type": "code",
   "execution_count": 24,
   "id": "f39be441-b7f9-442d-9956-e23ab97f4d59",
   "metadata": {},
   "outputs": [
    {
     "name": "stdout",
     "output_type": "stream",
     "text": [
      "Niraj\n",
      "My Name is Niraj\n"
     ]
    }
   ],
   "source": [
    "str1 = \"Niraj\"\n",
    "print(str1)\n",
    "print(f\"My Name is {str1}\")"
   ]
  },
  {
   "cell_type": "code",
   "execution_count": 26,
   "id": "06bdb41b-9594-4bde-8fed-6613f3211a3e",
   "metadata": {},
   "outputs": [
    {
     "name": "stdout",
     "output_type": "stream",
     "text": [
      "The marks are 89.0\n"
     ]
    }
   ],
   "source": [
    "marks = 89.0\n",
    "print(f\"The marks are {marks}\")"
   ]
  },
  {
   "cell_type": "code",
   "execution_count": 28,
   "id": "59ee9173-62e1-417a-8237-391c30d77763",
   "metadata": {},
   "outputs": [
    {
     "name": "stdout",
     "output_type": "stream",
     "text": [
      "10 140731417836248\n",
      "20 140731417836568\n",
      "30 140731417836888\n"
     ]
    }
   ],
   "source": [
    "a,b,c = 10,20,30\n",
    "print(a, id(a))\n",
    "print(b, id(b))\n",
    "print(c, id(c))"
   ]
  },
  {
   "cell_type": "markdown",
   "id": "cecd6628-ebad-490f-bc51-5f076d76c333",
   "metadata": {},
   "source": [
    "### Strings"
   ]
  },
  {
   "cell_type": "code",
   "execution_count": 48,
   "id": "aa951f8b-3a2d-4131-ab60-63a404a9e862",
   "metadata": {},
   "outputs": [
    {
     "name": "stdout",
     "output_type": "stream",
     "text": [
      "NirajPython\n",
      "Niraj is Learning Python Programming\n",
      "Niraj Python\n",
      "NirajPython\n",
      "25\n",
      "10+15\n"
     ]
    }
   ],
   "source": [
    "str1 = \"Niraj\"\n",
    "str2 = \"Python\"\n",
    "str3 = '''Niraj is Learning Python Programming'''\n",
    "str4 = str1 + str2 \n",
    "\n",
    "\n",
    "print(str1+str2)\n",
    "print(str3)\n",
    "print(str1+\" \"+ str2)\n",
    "print(str4)\n",
    "\n",
    "print(10+15)\n",
    "print(\"10+15\")"
   ]
  },
  {
   "cell_type": "markdown",
   "id": "a9a54f56-ac32-4403-aeac-c4a6fc3c1df5",
   "metadata": {},
   "source": [
    "### Datatypes"
   ]
  },
  {
   "cell_type": "code",
   "execution_count": 16,
   "id": "bb5ee120-221c-406d-a674-3e02b9d2a165",
   "metadata": {},
   "outputs": [
    {
     "name": "stdout",
     "output_type": "stream",
     "text": [
      "10 <class 'int'>\n",
      "20.34 <class 'float'>\n",
      "10j <class 'complex'>\n",
      "Hello Python <class 'str'>\n",
      "['Raju', 'Kaju'] <class 'list'>\n",
      "Kaju\n",
      "('Rajesh', 'Brijesh', 'Suresh', 'Mahesh') <class 'tuple'>\n",
      "Rajesh\n",
      "{'name': 'Niraj', 'age': 21, 'Standard': 'Final Year B.Tech', 'Salary': 0} <class 'dict'>\n",
      "0\n",
      "{17, 100, 20} <class 'set'>\n"
     ]
    }
   ],
   "source": [
    "# Integer \n",
    "num1 = 10\n",
    "print(num1, type(num1))\n",
    "\n",
    "# Float\n",
    "num2 = 20.34\n",
    "print(num2, type(num2))\n",
    "\n",
    "# Complex\n",
    "num3 = 10j\n",
    "print(num3, type(num3))\n",
    "\n",
    "# String\n",
    "demoStr = \"Hello Python\"\n",
    "print(demoStr, type(demoStr))\n",
    "\n",
    "# List\n",
    "students = [\"Raju\",\"Kaju\"]\n",
    "print(students, type(students))\n",
    "print(students[1])\n",
    "\n",
    "# Tuple\n",
    "stuDetails = (\"Rajesh\",\"Brijesh\",\"Suresh\",\"Mahesh\")\n",
    "print(stuDetails, type(stuDetails))\n",
    "print(stuDetails[0])\n",
    "\n",
    "# Dictionary\n",
    "student = {\n",
    "    \"name\" : \"Niraj\",\n",
    "    \"age\" : 21,\n",
    "    \"Standard\" : \"Final Year B.Tech\",\n",
    "    \"Salary\" : 0\n",
    "}\n",
    "print(student, type(student))\n",
    "print(student[\"Salary\"])\n",
    "\n",
    "# Set\n",
    "StuData = {17,20,100}\n",
    "print(StuData, type(StuData))"
   ]
  },
  {
   "cell_type": "markdown",
   "id": "75c91915-477b-467f-b94d-9ca2277b5b18",
   "metadata": {},
   "source": [
    "## Operators"
   ]
  },
  {
   "cell_type": "markdown",
   "id": "bf9a34af-609b-4351-8333-56f7e963ed1b",
   "metadata": {},
   "source": [
    "### Arithmetic Operators"
   ]
  },
  {
   "cell_type": "code",
   "execution_count": 25,
   "id": "a9168121-003e-4163-81a5-f226d8c37dde",
   "metadata": {},
   "outputs": [
    {
     "name": "stdout",
     "output_type": "stream",
     "text": [
      "Addition :  30\n",
      "Subtraction : -10\n",
      "Mutltiplication :  200\n",
      "Division :  0.5\n",
      "Floor Division :  0\n",
      "Exponent :  100000000000000000000\n",
      "Modulus :  10\n"
     ]
    }
   ],
   "source": [
    "a = 10\n",
    "b = 20\n",
    "\n",
    "print(\"Addition : \", a + b)\n",
    "print(\"Subtraction :\", a - b)\n",
    "print(\"Mutltiplication : \", a * b)\n",
    "print(\"Division : \", a / b)\n",
    "print(\"Floor Division : \", a // b)\n",
    "print(\"Exponent : \", a ** b)\n",
    "print(\"Modulus : \", a % b)"
   ]
  },
  {
   "cell_type": "markdown",
   "id": "05597db3-5934-467a-80b3-f0021aaff832",
   "metadata": {},
   "source": [
    "### Assignment Operator"
   ]
  },
  {
   "cell_type": "code",
   "execution_count": 50,
   "id": "0cb49f60-6897-44d2-b159-00a81462e2df",
   "metadata": {},
   "outputs": [
    {
     "name": "stdout",
     "output_type": "stream",
     "text": [
      "False\n",
      "True\n",
      "11\n"
     ]
    }
   ],
   "source": [
    "a = 6\n",
    "b = 5\n",
    "\n",
    "print(a==b)\n",
    "print(a!=b)\n",
    "\n",
    "#a+=b\n",
    "#print(a)\n",
    "\n",
    "a = a + b\n",
    "print(a)"
   ]
  },
  {
   "cell_type": "markdown",
   "id": "1079f481-1a4d-422a-b24d-ff9594e075a4",
   "metadata": {},
   "source": [
    "### Comparison Operators"
   ]
  },
  {
   "cell_type": "code",
   "execution_count": 61,
   "id": "fe8f7258-3ae4-43d5-89b2-901bff18437c",
   "metadata": {},
   "outputs": [
    {
     "name": "stdout",
     "output_type": "stream",
     "text": [
      "a==b False\n",
      "a!= True\n",
      "a>b False\n",
      "a<b True\n",
      "a>= False\n",
      "a<=b True\n"
     ]
    }
   ],
   "source": [
    "a = 10\n",
    "b = 30\n",
    "\n",
    "print(\"a==b\", a==b)\n",
    "print(\"a!=\", a!=b)\n",
    "print(\"a>b\",a>b)\n",
    "print(\"a<b\",a<b)\n",
    "print(\"a>=\",a>=b)\n",
    "print(\"a<=b\", a<=b)"
   ]
  },
  {
   "cell_type": "markdown",
   "id": "b3c45956-5b74-4a35-94fe-2d00ee6e5c77",
   "metadata": {},
   "source": [
    "### Logical Operators"
   ]
  },
  {
   "cell_type": "code",
   "execution_count": 71,
   "id": "8edea75e-e3d4-4e20-a3f3-ed0198ce2c16",
   "metadata": {},
   "outputs": [
    {
     "name": "stdout",
     "output_type": "stream",
     "text": [
      "AND Operator False\n",
      "OR Operator True\n",
      "NOT Operator True\n",
      "\n",
      "AND Operator True\n",
      "OR Operator True\n",
      "NOT Operator True\n"
     ]
    }
   ],
   "source": [
    "a = 10\n",
    "b = 11\n",
    "\n",
    "print(\"AND Operator\", a<b and a>b)\n",
    "print(\"OR Operator\", a<b or a>b)\n",
    "print(\"NOT Operator\", not a>b)\n",
    "\n",
    "print()\n",
    "\n",
    "print(\"AND Operator\", a<b and a<=b)\n",
    "print(\"OR Operator\", a<b or a>=b)\n",
    "print(\"NOT Operator\", not a>=b)\n"
   ]
  },
  {
   "cell_type": "markdown",
   "id": "23c57a75-49f2-4f09-b480-16ebc222425b",
   "metadata": {},
   "source": [
    "### Membership Operators"
   ]
  },
  {
   "cell_type": "code",
   "execution_count": 77,
   "id": "1206ce44-d258-4953-a3ca-28c86032fb36",
   "metadata": {},
   "outputs": [
    {
     "name": "stdout",
     "output_type": "stream",
     "text": [
      "False\n",
      "True\n",
      "True\n"
     ]
    }
   ],
   "source": [
    "string = \"I am Working on Python\"\n",
    "print(\"python\" in string)\n",
    "print(\"Python\" in string)\n",
    "print(\"pthon\" not in string)"
   ]
  },
  {
   "cell_type": "markdown",
   "id": "b7dacc5c-f484-40bd-a718-236fe8665f37",
   "metadata": {},
   "source": [
    "### Identity Operators"
   ]
  },
  {
   "cell_type": "code",
   "execution_count": 82,
   "id": "354c8638-2836-4981-a53f-3e73e0d353e9",
   "metadata": {},
   "outputs": [
    {
     "name": "stdout",
     "output_type": "stream",
     "text": [
      "False\n",
      "True\n"
     ]
    }
   ],
   "source": [
    "a = 10\n",
    "b = 13\n",
    "print (a is b)\n",
    "print(a is not b)"
   ]
  },
  {
   "cell_type": "markdown",
   "id": "1582c4ae-9752-4e16-8836-f6d3c4132551",
   "metadata": {},
   "source": [
    "# Handling User INPUT"
   ]
  },
  {
   "cell_type": "code",
   "execution_count": 91,
   "id": "ed672726-c52c-435e-82de-31489ae0694d",
   "metadata": {},
   "outputs": [
    {
     "name": "stdin",
     "output_type": "stream",
     "text": [
      "Enter Your Name :  Niraj\n"
     ]
    },
    {
     "name": "stdout",
     "output_type": "stream",
     "text": [
      "Niraj\n",
      "Your Name is : Niraj\n",
      "Your name is : Niraj\n"
     ]
    }
   ],
   "source": [
    "name = input (\"Enter Your Name : \")\n",
    "print(name)\n",
    "print(\"Your Name is :\", name)\n",
    "print(f\"Your name is : {name}\")"
   ]
  },
  {
   "cell_type": "markdown",
   "id": "ffeba1d7-0e1e-48ef-a778-820f7c7a4725",
   "metadata": {},
   "source": [
    "### Type Casting"
   ]
  },
  {
   "cell_type": "code",
   "execution_count": 104,
   "id": "6a15db3a-583e-41a2-9219-950a7533a473",
   "metadata": {},
   "outputs": [
    {
     "name": "stdin",
     "output_type": "stream",
     "text": [
      "Enter 1st Number:  988.0\n",
      "Enter 2nd Number:  87.99\n"
     ]
    },
    {
     "name": "stdout",
     "output_type": "stream",
     "text": [
      "1075.99\n"
     ]
    }
   ],
   "source": [
    "val1 = eval(input(\"Enter 1st Number: \"))\n",
    "val2 = eval(input(\"Enter 2nd Number: \"))\n",
    "print(val1 + val2)\n"
   ]
  },
  {
   "cell_type": "markdown",
   "id": "9886641c-8c41-4cb2-b9ae-935ff903f996",
   "metadata": {},
   "source": [
    "# Conditional Statements"
   ]
  },
  {
   "cell_type": "markdown",
   "id": "f5081f3b-d391-4b31-8a87-b45805b2d1f0",
   "metadata": {},
   "source": [
    "### if, if-else, if-elif-else condition "
   ]
  },
  {
   "cell_type": "code",
   "execution_count": 120,
   "id": "1297a157-1487-4685-ac71-4d9b35f9a626",
   "metadata": {},
   "outputs": [
    {
     "name": "stdout",
     "output_type": "stream",
     "text": [
      "B is greater than A\n",
      "Go Ahead\n"
     ]
    }
   ],
   "source": [
    "a = 20\n",
    "b = 30\n",
    "if a >= b:\n",
    "    print(\"A is less than B\")\n",
    "else:\n",
    "    print(\"B is greater than A\")\n",
    "\n",
    "print('Go Ahead')"
   ]
  },
  {
   "cell_type": "code",
   "execution_count": 122,
   "id": "0327472f-9044-43ae-8d79-9b98aa01bf3d",
   "metadata": {},
   "outputs": [
    {
     "name": "stdout",
     "output_type": "stream",
     "text": [
      "A is less than B\n"
     ]
    }
   ],
   "source": [
    "a = 40\n",
    "b = 49\n",
    "\n",
    "if a==b:\n",
    "    print(\"A is Equal to B\")\n",
    "elif a<b: \n",
    "    print(\"A is less than B\")\n",
    "elif a>b:\n",
    "    print(\"A is greater than B\")\n",
    "else:\n",
    "    print(\"No Condition Satisfied\")"
   ]
  },
  {
   "cell_type": "markdown",
   "id": "55e8105a-28dd-4831-80e9-5f80405e51a7",
   "metadata": {},
   "source": [
    "# Simple Calculator using Python"
   ]
  },
  {
   "cell_type": "code",
   "execution_count": 126,
   "id": "53cb902a-2e2d-47d2-8a7d-47c472b0d4cc",
   "metadata": {},
   "outputs": [
    {
     "name": "stdin",
     "output_type": "stream",
     "text": [
      "Enter 1st Number:  78.00\n",
      "Enter 2nd Number:  30.41\n",
      "Enter operator:  +\n"
     ]
    },
    {
     "name": "stdout",
     "output_type": "stream",
     "text": [
      "108.41\n"
     ]
    }
   ],
   "source": [
    "val1 = eval(input(\"Enter 1st Number: \"))\n",
    "val2 = eval(input(\"Enter 2nd Number: \"))\n",
    "oper = input(\"Enter operator: \")\n",
    "\n",
    "if oper == \"+\":\n",
    "    print(val1+val2)\n",
    "elif oper == \"-\":\n",
    "    print(val1-val2)\n",
    "elif oper == \"*\":\n",
    "    print(val1*val2)\n",
    "elif oper == \"/\":\n",
    "    print(val1/val2)\n",
    "else: \n",
    "    print(\"Invalid Operator is Entered.\")"
   ]
  },
  {
   "cell_type": "markdown",
   "id": "de325b57-8988-46a6-8d99-d186049c7bba",
   "metadata": {},
   "source": [
    "# Loops"
   ]
  },
  {
   "cell_type": "markdown",
   "id": "bcb5e959-61b1-4a8c-82b0-808fb04399d0",
   "metadata": {},
   "source": [
    "### For Loop"
   ]
  },
  {
   "cell_type": "code",
   "execution_count": 142,
   "id": "b909b998-c856-4d2e-b85b-9b51a67a81df",
   "metadata": {},
   "outputs": [
    {
     "name": "stdout",
     "output_type": "stream",
     "text": [
      "0\n",
      "1\n",
      "2\n",
      "3\n",
      "4\n",
      "5\n",
      "6\n",
      "7\n",
      "8\n",
      "9\n",
      "10\n",
      "11\n",
      "12\n",
      "13\n",
      "14\n",
      "15\n",
      "16\n",
      "17\n",
      "18\n",
      "19\n",
      "20\n",
      "21\n",
      "22\n",
      "23\n",
      "24\n",
      "25\n",
      "26\n",
      "27\n",
      "28\n",
      "29\n",
      "30\n",
      "31\n",
      "32\n",
      "33\n",
      "34\n",
      "35\n",
      "36\n",
      "37\n",
      "38\n",
      "39\n",
      "40\n",
      "41\n",
      "42\n",
      "43\n",
      "44\n",
      "45\n",
      "46\n",
      "47\n",
      "48\n",
      "49\n",
      "50\n",
      "51\n",
      "52\n",
      "53\n",
      "54\n",
      "55\n",
      "56\n",
      "57\n",
      "58\n",
      "59\n",
      "60\n",
      "61\n",
      "62\n",
      "63\n",
      "64\n",
      "65\n",
      "66\n",
      "67\n",
      "68\n",
      "69\n",
      "70\n",
      "71\n",
      "72\n",
      "73\n",
      "74\n",
      "75\n",
      "76\n",
      "77\n",
      "78\n",
      "79\n",
      "80\n",
      "81\n",
      "82\n",
      "83\n",
      "84\n",
      "85\n",
      "86\n",
      "87\n",
      "88\n",
      "89\n",
      "90\n",
      "91\n",
      "92\n",
      "93\n",
      "94\n",
      "95\n",
      "96\n",
      "97\n",
      "98\n",
      "99\n",
      "\n",
      "1\n",
      "2\n",
      "3\n",
      "4\n",
      "5\n",
      "6\n",
      "7\n",
      "8\n",
      "9\n",
      "10\n",
      "11\n",
      "12\n",
      "13\n",
      "14\n",
      "15\n",
      "16\n",
      "17\n",
      "18\n",
      "19\n",
      "20\n",
      "21\n",
      "22\n",
      "23\n",
      "24\n",
      "25\n",
      "26\n",
      "27\n",
      "28\n",
      "29\n",
      "30\n",
      "31\n",
      "32\n",
      "33\n",
      "34\n",
      "35\n",
      "36\n",
      "37\n",
      "38\n",
      "39\n",
      "40\n",
      "41\n",
      "42\n",
      "43\n",
      "44\n",
      "45\n",
      "46\n",
      "47\n",
      "48\n",
      "49\n",
      "50\n",
      "51\n",
      "52\n",
      "53\n",
      "54\n",
      "55\n",
      "56\n",
      "57\n",
      "58\n",
      "59\n",
      "60\n",
      "61\n",
      "62\n",
      "63\n",
      "64\n",
      "65\n",
      "66\n",
      "67\n",
      "68\n",
      "69\n",
      "70\n",
      "71\n",
      "72\n",
      "73\n",
      "74\n",
      "75\n",
      "76\n",
      "77\n",
      "78\n",
      "79\n",
      "80\n",
      "81\n",
      "82\n",
      "83\n",
      "84\n",
      "85\n",
      "86\n",
      "87\n",
      "88\n",
      "89\n",
      "90\n",
      "91\n",
      "92\n",
      "93\n",
      "94\n",
      "95\n",
      "96\n",
      "97\n",
      "98\n",
      "99\n",
      "\n",
      "1\n",
      "4\n",
      "7\n",
      "10\n",
      "13\n",
      "16\n",
      "19\n",
      "22\n",
      "25\n",
      "28\n",
      "31\n",
      "34\n",
      "37\n",
      "40\n",
      "43\n",
      "46\n",
      "49\n",
      "52\n",
      "55\n",
      "58\n",
      "61\n",
      "64\n",
      "67\n",
      "70\n",
      "73\n",
      "76\n",
      "79\n",
      "82\n",
      "85\n",
      "88\n",
      "91\n",
      "94\n",
      "97\n",
      "\n",
      "100\n",
      "99\n",
      "98\n",
      "97\n",
      "96\n",
      "95\n",
      "94\n",
      "93\n",
      "92\n",
      "91\n",
      "90\n",
      "89\n",
      "88\n",
      "87\n",
      "86\n",
      "85\n",
      "84\n",
      "83\n",
      "82\n",
      "81\n",
      "80\n",
      "79\n",
      "78\n",
      "77\n",
      "76\n",
      "75\n",
      "74\n",
      "73\n",
      "72\n",
      "71\n",
      "70\n",
      "69\n",
      "68\n",
      "67\n",
      "66\n",
      "65\n",
      "64\n",
      "63\n",
      "62\n",
      "61\n",
      "60\n",
      "59\n",
      "58\n",
      "57\n",
      "56\n",
      "55\n",
      "54\n",
      "53\n",
      "52\n",
      "51\n",
      "50\n",
      "49\n",
      "48\n",
      "47\n",
      "46\n",
      "45\n",
      "44\n",
      "43\n",
      "42\n",
      "41\n",
      "40\n",
      "39\n",
      "38\n",
      "37\n",
      "36\n",
      "35\n",
      "34\n",
      "33\n",
      "32\n",
      "31\n",
      "30\n",
      "29\n",
      "28\n",
      "27\n",
      "26\n",
      "25\n",
      "24\n",
      "23\n",
      "22\n",
      "21\n",
      "20\n",
      "19\n",
      "18\n",
      "17\n",
      "16\n",
      "15\n",
      "14\n",
      "13\n",
      "12\n",
      "11\n",
      "10\n",
      "9\n",
      "8\n",
      "7\n",
      "6\n",
      "5\n",
      "4\n",
      "3\n",
      "2\n",
      "1\n"
     ]
    }
   ],
   "source": [
    "for i in range(100): # prints from 0 to 99\n",
    "    print(i)\n",
    "\n",
    "print()\n",
    "\n",
    "for i in range(1,100): # prints from 1 to 99\n",
    "    print(i)\n",
    "\n",
    "print()\n",
    "\n",
    "for i in range(1, 100, 3): # prints from 1 to 99 by gap of 3\n",
    "    print(i)\n",
    "\n",
    "print()\n",
    "\n",
    "for i in range(100, 0 , -1): # prints from 100 to 1 reverse\n",
    "    print(i)"
   ]
  },
  {
   "cell_type": "markdown",
   "id": "d24310dd-4e91-4e9b-abdb-bc5a78105066",
   "metadata": {},
   "source": [
    "### While Loop"
   ]
  },
  {
   "cell_type": "code",
   "execution_count": 146,
   "id": "45069eac-e182-4d7f-bb4f-7e33145cf4fe",
   "metadata": {},
   "outputs": [
    {
     "name": "stdout",
     "output_type": "stream",
     "text": [
      "1\n",
      "2\n",
      "3\n",
      "4\n",
      "5\n",
      "6\n",
      "7\n",
      "8\n",
      "9\n",
      "10\n",
      "\n",
      "1\n",
      "2\n",
      "3\n",
      "4\n",
      "5\n",
      "6\n",
      "7\n",
      "8\n",
      "9\n"
     ]
    }
   ],
   "source": [
    "n = 1\n",
    "while n<=10: # prints from 1 to 10\n",
    "    print(n)\n",
    "    n = n + 1\n",
    "\n",
    "print()\n",
    "\n",
    "a = 1\n",
    "while a < 10: # prints from 1 to 9\n",
    "    print(a)\n",
    "    a = a+1"
   ]
  },
  {
   "cell_type": "markdown",
   "id": "ac79a529-acf0-4002-9d3d-b76a0dbb80d6",
   "metadata": {},
   "source": [
    "### Break, Continue, Pass Statements"
   ]
  },
  {
   "cell_type": "code",
   "execution_count": 149,
   "id": "33f1a1a7-d5a2-42b6-9b8b-16582c0610b1",
   "metadata": {},
   "outputs": [
    {
     "name": "stdout",
     "output_type": "stream",
     "text": [
      "1\n",
      "2\n",
      "3\n",
      "4\n"
     ]
    }
   ],
   "source": [
    "for num in range(1, 10):\n",
    "    if num == 5:\n",
    "        break\n",
    "    print(num)    "
   ]
  },
  {
   "cell_type": "code",
   "execution_count": 151,
   "id": "6662a4c4-3f13-486a-bb85-52fd34a465a8",
   "metadata": {},
   "outputs": [
    {
     "name": "stdout",
     "output_type": "stream",
     "text": [
      "Item Found!! 5\n"
     ]
    }
   ],
   "source": [
    "items = [1, 2, 3, 4, 5, 6, 7]\n",
    "target = 5\n",
    "for item in items:\n",
    "    if item == target:\n",
    "        print(\"Item Found!!\",item)\n",
    "        break"
   ]
  },
  {
   "cell_type": "code",
   "execution_count": 153,
   "id": "af9eff64-00a8-4c50-93b0-9be70052dd81",
   "metadata": {},
   "outputs": [
    {
     "name": "stdout",
     "output_type": "stream",
     "text": [
      "1\n",
      "2\n",
      "4\n",
      "5\n"
     ]
    }
   ],
   "source": [
    "for num in range(1,6):\n",
    "    if num == 3:\n",
    "        continue\n",
    "    print(num)    "
   ]
  },
  {
   "cell_type": "code",
   "execution_count": null,
   "id": "ec7069e6-47f3-4046-80b6-05af3f980f2e",
   "metadata": {},
   "outputs": [],
   "source": [
    "for num in range(1,5):\n",
    "    if num == 2:\n",
    "        pass\n",
    "    print(num)    \n",
    "\n",
    "for num in range(1,5):\n",
    "    if num == 2:\n",
    "        pass\n",
    "        "
   ]
  },
  {
   "cell_type": "markdown",
   "id": "07bb021a-4d62-4097-8785-b6ed4112efc2",
   "metadata": {},
   "source": [
    "# String Manipulation"
   ]
  },
  {
   "cell_type": "markdown",
   "id": "5478c8d3-5935-400c-9fb7-7f5a7c670c2b",
   "metadata": {},
   "source": [
    "### String Indexing & Slicing"
   ]
  },
  {
   "cell_type": "code",
   "execution_count": 177,
   "id": "4c2831bf-f140-48d4-b203-b76296e622c0",
   "metadata": {},
   "outputs": [
    {
     "name": "stdout",
     "output_type": "stream",
     "text": [
      "E\n",
      "D\n",
      "LLO WORL\n",
      "ELLO\n",
      "DRWOLH\n",
      "EL OL\n",
      "HLOWRD\n"
     ]
    }
   ],
   "source": [
    "str = \"HELLO WORLD\"\n",
    "print(str[1])\n",
    "print(str[-1])\n",
    "\n",
    "print(str[2:10])\n",
    "print(str[1:5])\n",
    "\n",
    "print(str[-1:-12:-2])\n",
    "print(str[1:12:2])\n",
    "\n",
    "print(str[0::2])"
   ]
  },
  {
   "cell_type": "markdown",
   "id": "4c90fd8c-3e29-463c-b584-03c17827f021",
   "metadata": {},
   "source": [
    "### String Iteration"
   ]
  },
  {
   "cell_type": "code",
   "execution_count": 202,
   "id": "c6d50d21-b47c-42ac-9a0e-00062ccba99a",
   "metadata": {},
   "outputs": [
    {
     "name": "stdout",
     "output_type": "stream",
     "text": [
      "23\n",
      "\n",
      "W\n",
      "e\n",
      "l\n",
      "c\n",
      "o\n",
      "m\n",
      "e\n",
      " \n",
      "t\n",
      "o\n",
      " \n",
      "N\n",
      "i\n",
      "r\n",
      "a\n",
      "j\n",
      " \n",
      "G\n",
      "i\n",
      "t\n",
      "h\n",
      "u\n",
      "b\n",
      "\n",
      "W\n",
      "e\n",
      "l\n",
      "c\n",
      "o\n",
      "m\n",
      "e\n",
      " \n",
      "t\n",
      "o\n",
      " \n",
      "N\n",
      "i\n",
      "r\n",
      "a\n",
      "j\n",
      " \n",
      "G\n",
      "i\n",
      "t\n",
      "h\n",
      "u\n",
      "b\n",
      "\n",
      "b\n",
      "u\n",
      "h\n",
      "t\n",
      "i\n",
      "G\n",
      " \n",
      "j\n",
      "a\n",
      "r\n",
      "i\n",
      "N\n",
      " \n",
      "o\n",
      "t\n",
      " \n",
      "e\n",
      "m\n",
      "o\n",
      "c\n",
      "l\n",
      "e\n",
      "W\n"
     ]
    }
   ],
   "source": [
    "str = \"Welcome to Niraj Github\"\n",
    "length = len(str)\n",
    "print(length)\n",
    "\n",
    "print()\n",
    "\n",
    "for n in str:\n",
    "    print(n)\n",
    "\n",
    "print()\n",
    "\n",
    "for n in range(23):\n",
    "    print(str[n])\n",
    "\n",
    "print()\n",
    "\n",
    "for i in range(length-1, -1, -1):\n",
    "    print(str[i])"
   ]
  },
  {
   "cell_type": "markdown",
   "id": "c34ba822-4c46-468d-8449-735305871c2c",
   "metadata": {},
   "source": [
    "### Common String Functions"
   ]
  },
  {
   "cell_type": "code",
   "execution_count": 213,
   "id": "ce1f5227-1b19-4243-89a5-5190ed243f67",
   "metadata": {},
   "outputs": [
    {
     "name": "stdout",
     "output_type": "stream",
     "text": [
      " niraj is my name\n",
      " NIRAJ IS MY NAME\n",
      " Niraj Is My Name\n",
      " niraj is my name\n"
     ]
    }
   ],
   "source": [
    "str = \" Niraj is My Name\"\n",
    "print(str.lower()) # all small\n",
    "print(str.upper()) # all capital\n",
    "print(str.title()) # Only 1st is of each is Capital\n",
    "print(str.capitalize()) # Changes capital in small"
   ]
  },
  {
   "cell_type": "markdown",
   "id": "198e8b9e-fd0a-4dfd-8911-5cb718b5cdfa",
   "metadata": {},
   "source": [
    "### Advance String Functions"
   ]
  },
  {
   "cell_type": "code",
   "execution_count": 244,
   "id": "bdbeb024-ad26-42e1-b688-aa077695318f",
   "metadata": {},
   "outputs": [
    {
     "name": "stdout",
     "output_type": "stream",
     "text": [
      "2\n",
      "7\n",
      "\n",
      "15\n",
      "\n",
      "-1\n",
      "\n",
      "False\n",
      "False\n"
     ]
    }
   ],
   "source": [
    "str = \" Niraj is My Name\"\n",
    "print(str.find('i'))\n",
    "print(str.find('i',3))\n",
    "\n",
    "print()\n",
    "\n",
    "print(str.find('m'))\n",
    "\n",
    "print()\n",
    "\n",
    "print(str.find('l'))\n",
    "\n",
    "print()\n",
    "\n",
    "print(str.isalpha())\n",
    "\n",
    "print(str.isdigit())"
   ]
  },
  {
   "cell_type": "markdown",
   "id": "ee9112b6-149d-4d5a-89ac-1a52295ee67d",
   "metadata": {},
   "source": [
    "### Chr & Ord "
   ]
  },
  {
   "cell_type": "code",
   "execution_count": 249,
   "id": "de4f73d1-544d-4e4a-a064-e3b6687de4c4",
   "metadata": {},
   "outputs": [
    {
     "name": "stdout",
     "output_type": "stream",
     "text": [
      "L\n",
      "2\n"
     ]
    }
   ],
   "source": [
    "num = 76\n",
    "print(chr(num))\n",
    "\n",
    "num = 50\n",
    "print(chr(num))"
   ]
  },
  {
   "cell_type": "code",
   "execution_count": 253,
   "id": "fb0d2108-dace-4086-a5e9-62ec75f9b600",
   "metadata": {},
   "outputs": [
    {
     "name": "stdout",
     "output_type": "stream",
     "text": [
      "97\n",
      "76\n"
     ]
    }
   ],
   "source": [
    "cha = 'a'\n",
    "print(ord(cha))\n",
    "\n",
    "cha = 'L'\n",
    "print(ord(cha))"
   ]
  },
  {
   "cell_type": "markdown",
   "id": "ea8180da-9e25-4a75-816f-8a7003866d47",
   "metadata": {},
   "source": [
    "### String Formatting"
   ]
  },
  {
   "cell_type": "code",
   "execution_count": 260,
   "id": "ca674238-3eeb-4cfd-8e97-a806495b41eb",
   "metadata": {},
   "outputs": [
    {
     "name": "stdout",
     "output_type": "stream",
     "text": [
      " Hello Python \n",
      " Hello Python Programming\n"
     ]
    }
   ],
   "source": [
    "str = \" Hello Python \"\n",
    "print(str)\n",
    "\n",
    "str = \" Hello {firstword} {secondword}\".format(firstword = \"Python\", secondword = \"Programming\")\n",
    "print(str)"
   ]
  },
  {
   "cell_type": "code",
   "execution_count": 264,
   "id": "5a23455d-752c-4e7d-aa5d-e3b7dba0daba",
   "metadata": {},
   "outputs": [
    {
     "name": "stdout",
     "output_type": "stream",
     "text": [
      " Hello Python Programming\n"
     ]
    }
   ],
   "source": [
    "text = \" Hello {0} {1}\".format(\"Python\", \"Programming\")\n",
    "print(text)\n"
   ]
  },
  {
   "cell_type": "markdown",
   "id": "43f6acf1-b66b-4c97-b028-b80378f3d6be",
   "metadata": {},
   "source": [
    "# List (Data Structure)"
   ]
  },
  {
   "cell_type": "markdown",
   "id": "80c80eec-1cf3-4d05-b643-f7ff9ac648a3",
   "metadata": {},
   "source": [
    "### List Understanding "
   ]
  },
  {
   "cell_type": "code",
   "execution_count": 21,
   "id": "b3a02e6e-5737-4e45-9689-5254293bea02",
   "metadata": {},
   "outputs": [
    {
     "name": "stdout",
     "output_type": "stream",
     "text": [
      "[10, 20, 30, 40, 50, 'Python', 'Snake', 10.5] <class 'list'>\n",
      "10\n",
      "10.5\n",
      "20 30\n",
      "[20, 30, 40, 50]\n",
      "[20, 40, 'Python', 10.5]\n",
      "t\n",
      "8\n"
     ]
    }
   ],
   "source": [
    "list1 = [10, 20, 30, 40, 50, \"Python\", \"Snake\", 10.5]\n",
    "print(list1, type(list1))\n",
    "\n",
    "print(list1[0])\n",
    "print(list1[-1])\n",
    "print(list1[1],list1[2])\n",
    "print(list1[1:5:1])\n",
    "print(list1[1::2])\n",
    "print(list1[5][2])\n",
    "\n",
    "print(len(list1))"
   ]
  },
  {
   "cell_type": "markdown",
   "id": "fa010f16-cfcd-44a9-8093-336056253435",
   "metadata": {},
   "source": [
    "### List Iteration"
   ]
  },
  {
   "cell_type": "code",
   "execution_count": 34,
   "id": "27abf07a-f378-45b9-ae86-95a62517edf8",
   "metadata": {},
   "outputs": [
    {
     "name": "stdout",
     "output_type": "stream",
     "text": [
      "11\n",
      "0 1\n",
      "1 2\n",
      "2 3\n",
      "3 4\n",
      "4 5\n",
      "5 12\n",
      "6 15\n",
      "7 18\n",
      "8 20\n",
      "9 30\n",
      "10 40\n"
     ]
    }
   ],
   "source": [
    "list = [1,2,3,4,5,12,15,18,20,30,40]\n",
    "length = len(list)\n",
    "print(length)\n",
    "\n",
    "for i in range(length):\n",
    "    print(i, list[i])"
   ]
  },
  {
   "cell_type": "code",
   "execution_count": 36,
   "id": "2364af9a-663c-40d5-8c6a-3115a4154d0a",
   "metadata": {},
   "outputs": [
    {
     "name": "stdout",
     "output_type": "stream",
     "text": [
      "1\n",
      "2\n",
      "3\n",
      "4\n",
      "5\n",
      "12\n",
      "15\n",
      "18\n",
      "20\n",
      "30\n",
      "40\n"
     ]
    }
   ],
   "source": [
    "for i in list:\n",
    "    print(i)"
   ]
  },
  {
   "cell_type": "code",
   "execution_count": 46,
   "id": "e23a4a12-c80c-4cfe-90e3-4e9b84a49454",
   "metadata": {},
   "outputs": [
    {
     "name": "stdout",
     "output_type": "stream",
     "text": [
      "10\n",
      "9\n",
      "8\n",
      "7\n",
      "6\n",
      "5\n",
      "4\n",
      "3\n",
      "2\n",
      "1\n",
      "0\n"
     ]
    }
   ],
   "source": [
    "for i in range(length-1,-1,-1):\n",
    "    print(i)\n",
    "    #print(i, list[i])"
   ]
  },
  {
   "cell_type": "markdown",
   "id": "c339a447-1547-459b-bbf7-aff9670dd423",
   "metadata": {},
   "source": [
    "### List Comprehension"
   ]
  },
  {
   "cell_type": "code",
   "execution_count": 57,
   "id": "4cd736b7-f27b-4020-85d8-9e83ae4ee8c3",
   "metadata": {},
   "outputs": [
    {
     "name": "stdout",
     "output_type": "stream",
     "text": [
      "[1, 2, 3, 4, 5, 6, 7, 8, 9, 10, 11, 12, 13, 14, 15, 16, 17, 18, 19, 20, 21, 22, 23, 24, 25, 26, 27, 28, 29, 30, 31, 32, 33, 34, 35, 36, 37, 38, 39, 40, 41, 42, 43, 44, 45, 46, 47, 48, 49, 50]\n",
      "\n",
      "[1, 3, 5, 7, 9, 11, 13, 15, 17, 19, 21, 23, 25, 27, 29, 31, 33, 35, 37, 39, 41, 43, 45, 47, 49]\n"
     ]
    }
   ],
   "source": [
    "# Syntax of List Comprehensiom\n",
    "# [expression for item in list]\n",
    "\n",
    "list1 = []\n",
    "for i in range (1,51):\n",
    "    list1.append(i)\n",
    "print(list1)    \n",
    "\n",
    "print()\n",
    "\n",
    "list2 = [ind for ind in range(1,51) if ind %2 == 1]\n",
    "print(list2)"
   ]
  },
  {
   "cell_type": "markdown",
   "id": "c739ee50-5b99-473c-bc0a-83d63ec5f23a",
   "metadata": {},
   "source": [
    "### List Functions"
   ]
  },
  {
   "cell_type": "code",
   "execution_count": 78,
   "id": "e5d23dd4-83d6-43dc-9125-730026705acf",
   "metadata": {},
   "outputs": [
    {
     "name": "stdout",
     "output_type": "stream",
     "text": [
      "List before Deletion : [1, 2, 3, 4, 5, 12, 15, 18, 20, 30, 40]\n",
      "\n",
      "[1, 2, 4, 5, 12, 15, 18, 20, 30, 40]\n",
      "\n",
      "[1, 2, 4, 12, 15, 18, 20, 30, 40]\n",
      "\n",
      "None\n",
      "\n",
      "[]\n"
     ]
    }
   ],
   "source": [
    "list = [1,2,3,4,5,12,15,18,20,30,40]\n",
    "print(f\"List before Deletion : {list}\")\n",
    "\n",
    "print()\n",
    "\n",
    "del list[2]\n",
    "print(list)\n",
    "\n",
    "print()\n",
    "\n",
    "list.pop(3)\n",
    "print(list)\n",
    "\n",
    "print()\n",
    "\n",
    "print(list.remove(40))\n",
    "\n",
    "print()\n",
    "\n",
    "list.clear()\n",
    "print(list)"
   ]
  },
  {
   "cell_type": "code",
   "execution_count": 84,
   "id": "29330ed7-6e94-4297-b210-189f5654a684",
   "metadata": {},
   "outputs": [
    {
     "name": "stdout",
     "output_type": "stream",
     "text": [
      "[1, 2, 22, 3, 4, 5, 12, 15, 18, 20, 30, 40]\n"
     ]
    }
   ],
   "source": [
    "list = [1,2,3,4,5,12,15,18,20,30,40]\n",
    "list.insert(2,22)\n",
    "print(list)"
   ]
  },
  {
   "cell_type": "code",
   "execution_count": 88,
   "id": "aa621e64-881d-413b-b092-341548a2fe3c",
   "metadata": {},
   "outputs": [
    {
     "name": "stdout",
     "output_type": "stream",
     "text": [
      "[1, 2, 3, 4, 5, 12, 15, 18, 20, 30, 40, [1, 3, 5, 7, 9, 11, 13, 15, 17, 19, 21, 23, 25, 27, 29, 31, 33, 35, 37, 39, 41, 43, 45, 47, 49]]\n"
     ]
    }
   ],
   "source": [
    "list = [1,2,3,4,5,12,15,18,20,30,40]\n",
    "list.append(list2)\n",
    "print(list)"
   ]
  },
  {
   "cell_type": "code",
   "execution_count": 110,
   "id": "43f1eb13-d9e2-4b80-96b2-28630c9ccd97",
   "metadata": {},
   "outputs": [
    {
     "name": "stdout",
     "output_type": "stream",
     "text": [
      "0\n",
      "\n",
      "40\n",
      "\n",
      "1\n",
      "\n",
      "[1, 2, 3, 4, 5, 12, 15, 18, 20, 30, 40]\n",
      "\n",
      "[40, 30, 20, 18, 15, 12, 5, 4, 3, 2, 1]\n",
      "\n",
      "None\n"
     ]
    }
   ],
   "source": [
    "list = [1,2,3,4,5,12,15,18,20,30,40]\n",
    "listcount = list.count(10)\n",
    "print(listcount)\n",
    "\n",
    "print()\n",
    "\n",
    "maxNumber = max(list)\n",
    "print(maxNumber)\n",
    "\n",
    "print()\n",
    "\n",
    "minNumber = min(list)\n",
    "print(minNumber)\n",
    "\n",
    "print()\n",
    "\n",
    "list.sort()\n",
    "print(list)\n",
    "\n",
    "print()\n",
    "\n",
    "list.sort(reverse=True)\n",
    "print(list)\n",
    "\n",
    "print()\n",
    "\n",
    "list_reverse = list.reverse()\n",
    "print(list_reverse)\n",
    "\n"
   ]
  },
  {
   "cell_type": "markdown",
   "id": "31825eb5-fbf0-4c8d-9993-e4e750cb8054",
   "metadata": {},
   "source": [
    "### List Zip Function"
   ]
  },
  {
   "cell_type": "code",
   "execution_count": 117,
   "id": "adaf370d-5ae3-4884-8d03-8dc0e6defe96",
   "metadata": {},
   "outputs": [
    {
     "name": "stdout",
     "output_type": "stream",
     "text": [
      "1 6\n",
      "2 7\n",
      "3 8\n",
      "4 9\n",
      "5 10\n",
      "\n",
      "1 6\n",
      "2 7\n",
      "3 8\n",
      "4 9\n",
      "5 10\n"
     ]
    }
   ],
   "source": [
    "lis1 = [1, 2, 3, 4, 5]\n",
    "lis2 = [6, 7, 8, 9, 10]\n",
    "\n",
    "for a,b in zip(lis1, lis2):\n",
    "    print(a,b)\n",
    "\n",
    "print()\n",
    "\n",
    "length = len(lis1)\n",
    "for i in range(length):\n",
    "    print(lis1[i], lis2[i])\n",
    "    "
   ]
  },
  {
   "cell_type": "markdown",
   "id": "c4f37b6c-9bf9-47cd-8618-2ec075e2d836",
   "metadata": {},
   "source": [
    "### To convert string into a list"
   ]
  },
  {
   "cell_type": "code",
   "execution_count": 124,
   "id": "f8e462a0-1dec-42e6-99f4-fdadf963c68d",
   "metadata": {},
   "outputs": [
    {
     "name": "stdin",
     "output_type": "stream",
     "text": [
      "Enter the String: Niraj Welcomes you to Github\n"
     ]
    },
    {
     "name": "stdout",
     "output_type": "stream",
     "text": [
      "Niraj Welcomes you to Github\n",
      "['Niraj', 'Welcomes', 'you', 'to', 'Github']\n"
     ]
    }
   ],
   "source": [
    "userInput = input(\"Enter the String:\")\n",
    "print(userInput)\n",
    "\n",
    "list1 = userInput.split();\n",
    "print(list1)"
   ]
  },
  {
   "cell_type": "code",
   "execution_count": 130,
   "id": "6973920b-fa87-4e9e-9caa-bd938ee55637",
   "metadata": {},
   "outputs": [
    {
     "name": "stdin",
     "output_type": "stream",
     "text": [
      "Enter a String:1:  Niraj \n"
     ]
    },
    {
     "name": "stdout",
     "output_type": "stream",
     "text": [
      "Niraj \n"
     ]
    },
    {
     "name": "stdin",
     "output_type": "stream",
     "text": [
      "Enter a String:2:  is \n"
     ]
    },
    {
     "name": "stdout",
     "output_type": "stream",
     "text": [
      "is \n"
     ]
    },
    {
     "name": "stdin",
     "output_type": "stream",
     "text": [
      "Enter a String:3:  using\n"
     ]
    },
    {
     "name": "stdout",
     "output_type": "stream",
     "text": [
      "using\n"
     ]
    },
    {
     "name": "stdin",
     "output_type": "stream",
     "text": [
      "Enter a String:4:  Jupyter Notebook\n"
     ]
    },
    {
     "name": "stdout",
     "output_type": "stream",
     "text": [
      "Jupyter Notebook\n",
      "['Niraj ', 'is ', 'using', 'Jupyter Notebook']\n"
     ]
    }
   ],
   "source": [
    "list1 = []\n",
    "for n in range(1,5):\n",
    "    userInput = input(\"Enter a String:\" + str(n) + \": \")\n",
    "    list1.append(userInput)\n",
    "    print(userInput)\n",
    "print(list1)    \n"
   ]
  },
  {
   "cell_type": "markdown",
   "id": "4301641c-094f-4303-9073-23c9601397e9",
   "metadata": {},
   "source": [
    "### Stack Implementation"
   ]
  },
  {
   "cell_type": "code",
   "execution_count": 137,
   "id": "24f52fc2-d282-40e6-ab79-6148cb36285d",
   "metadata": {},
   "outputs": [
    {
     "name": "stdin",
     "output_type": "stream",
     "text": [
      "\n",
      "    1.Push Element\n",
      "    2.Pop Element\n",
      "    3.Peek Element\n",
      "    4.Display Stack\n",
      "    5.Exit\n",
      "     1\n",
      "Enter a Value:  10\n"
     ]
    },
    {
     "name": "stdout",
     "output_type": "stream",
     "text": [
      "['10']\n"
     ]
    },
    {
     "name": "stdin",
     "output_type": "stream",
     "text": [
      "\n",
      "    1.Push Element\n",
      "    2.Pop Element\n",
      "    3.Peek Element\n",
      "    4.Display Stack\n",
      "    5.Exit\n",
      "     2\n"
     ]
    },
    {
     "name": "stdout",
     "output_type": "stream",
     "text": [
      "10\n",
      "[]\n"
     ]
    },
    {
     "name": "stdin",
     "output_type": "stream",
     "text": [
      "\n",
      "    1.Push Element\n",
      "    2.Pop Element\n",
      "    3.Peek Element\n",
      "    4.Display Stack\n",
      "    5.Exit\n",
      "     12\n"
     ]
    },
    {
     "name": "stdout",
     "output_type": "stream",
     "text": [
      "Invalid Operation\n"
     ]
    },
    {
     "name": "stdin",
     "output_type": "stream",
     "text": [
      "\n",
      "    1.Push Element\n",
      "    2.Pop Element\n",
      "    3.Peek Element\n",
      "    4.Display Stack\n",
      "    5.Exit\n",
      "     1\n",
      "Enter a Value:  10\n"
     ]
    },
    {
     "name": "stdout",
     "output_type": "stream",
     "text": [
      "['10']\n"
     ]
    },
    {
     "name": "stdin",
     "output_type": "stream",
     "text": [
      "\n",
      "    1.Push Element\n",
      "    2.Pop Element\n",
      "    3.Peek Element\n",
      "    4.Display Stack\n",
      "    5.Exit\n",
      "     1\n",
      "Enter a Value:  20\n"
     ]
    },
    {
     "name": "stdout",
     "output_type": "stream",
     "text": [
      "['10', '20']\n"
     ]
    },
    {
     "name": "stdin",
     "output_type": "stream",
     "text": [
      "\n",
      "    1.Push Element\n",
      "    2.Pop Element\n",
      "    3.Peek Element\n",
      "    4.Display Stack\n",
      "    5.Exit\n",
      "     3\n"
     ]
    },
    {
     "name": "stdout",
     "output_type": "stream",
     "text": [
      "Last Element of Stack is:  20\n"
     ]
    },
    {
     "name": "stdin",
     "output_type": "stream",
     "text": [
      "\n",
      "    1.Push Element\n",
      "    2.Pop Element\n",
      "    3.Peek Element\n",
      "    4.Display Stack\n",
      "    5.Exit\n",
      "     10\n"
     ]
    },
    {
     "name": "stdout",
     "output_type": "stream",
     "text": [
      "Invalid Operation\n"
     ]
    },
    {
     "name": "stdin",
     "output_type": "stream",
     "text": [
      "\n",
      "    1.Push Element\n",
      "    2.Pop Element\n",
      "    3.Peek Element\n",
      "    4.Display Stack\n",
      "    5.Exit\n",
      "     4\n"
     ]
    },
    {
     "name": "stdout",
     "output_type": "stream",
     "text": [
      "Display  Stack:  ['10', '20']\n"
     ]
    },
    {
     "name": "stdin",
     "output_type": "stream",
     "text": [
      "\n",
      "    1.Push Element\n",
      "    2.Pop Element\n",
      "    3.Peek Element\n",
      "    4.Display Stack\n",
      "    5.Exit\n",
      "     1\n",
      "Enter a Value:  22\n"
     ]
    },
    {
     "name": "stdout",
     "output_type": "stream",
     "text": [
      "['10', '20', '22']\n"
     ]
    },
    {
     "name": "stdin",
     "output_type": "stream",
     "text": [
      "\n",
      "    1.Push Element\n",
      "    2.Pop Element\n",
      "    3.Peek Element\n",
      "    4.Display Stack\n",
      "    5.Exit\n",
      "     2\n"
     ]
    },
    {
     "name": "stdout",
     "output_type": "stream",
     "text": [
      "22\n",
      "['10', '20']\n"
     ]
    },
    {
     "name": "stdin",
     "output_type": "stream",
     "text": [
      "\n",
      "    1.Push Element\n",
      "    2.Pop Element\n",
      "    3.Peek Element\n",
      "    4.Display Stack\n",
      "    5.Exit\n",
      "     22\n"
     ]
    },
    {
     "name": "stdout",
     "output_type": "stream",
     "text": [
      "Invalid Operation\n"
     ]
    },
    {
     "name": "stdin",
     "output_type": "stream",
     "text": [
      "\n",
      "    1.Push Element\n",
      "    2.Pop Element\n",
      "    3.Peek Element\n",
      "    4.Display Stack\n",
      "    5.Exit\n",
      "     4\n"
     ]
    },
    {
     "name": "stdout",
     "output_type": "stream",
     "text": [
      "Display  Stack:  ['10', '20']\n"
     ]
    },
    {
     "name": "stdin",
     "output_type": "stream",
     "text": [
      "\n",
      "    1.Push Element\n",
      "    2.Pop Element\n",
      "    3.Peek Element\n",
      "    4.Display Stack\n",
      "    5.Exit\n",
      "     5\n"
     ]
    }
   ],
   "source": [
    "list = []\n",
    "while True:\n",
    "    oprInput = int(input('''\n",
    "    1.Push Element\n",
    "    2.Pop Element\n",
    "    3.Peek Element\n",
    "    4.Display Stack\n",
    "    5.Exit\n",
    "    '''))\n",
    "    if oprInput == 1:\n",
    "        userInput = input(\"Enter a Value: \")\n",
    "        list.append(userInput)\n",
    "        print(list)\n",
    "    elif oprInput == 2:\n",
    "        if len(list) == 0:\n",
    "            print(\"Empty Stack\")\n",
    "        else:   \n",
    "            popElement = list.pop()\n",
    "            print(popElement)\n",
    "            print(list)\n",
    "    elif oprInput ==3:\n",
    "        if len(list) == 0:\n",
    "            print(\"Empty Stack\")\n",
    "        else:\n",
    "            print(\"Last Element of Stack is: \", list[-1])\n",
    "    elif oprInput == 4:\n",
    "        print(\"Display  Stack: \",list)\n",
    "    elif oprInput == 5:\n",
    "        break;\n",
    "    else:\n",
    "        print(\"Invalid Operation\")"
   ]
  },
  {
   "cell_type": "markdown",
   "id": "58f8299c-1646-4866-888a-b5309609dac7",
   "metadata": {},
   "source": [
    "### Queue Impementation"
   ]
  },
  {
   "cell_type": "code",
   "execution_count": 157,
   "id": "1d867457-67e4-4939-9084-5bf6287aba64",
   "metadata": {},
   "outputs": [
    {
     "name": "stdin",
     "output_type": "stream",
     "text": [
      "\n",
      "    1. Push Element\n",
      "    2. Pop First Element\n",
      "    3. Front Element\n",
      "    4. Rear Element\n",
      "    5. Display Queue\n",
      "    6. Exit\n",
      "     1\n",
      "Enter a Value:  10\n"
     ]
    },
    {
     "name": "stdout",
     "output_type": "stream",
     "text": [
      "['10']\n"
     ]
    },
    {
     "name": "stdin",
     "output_type": "stream",
     "text": [
      "\n",
      "    1. Push Element\n",
      "    2. Pop First Element\n",
      "    3. Front Element\n",
      "    4. Rear Element\n",
      "    5. Display Queue\n",
      "    6. Exit\n",
      "     1\n",
      "Enter a Value:  20\n"
     ]
    },
    {
     "name": "stdout",
     "output_type": "stream",
     "text": [
      "['10', '20']\n"
     ]
    },
    {
     "name": "stdin",
     "output_type": "stream",
     "text": [
      "\n",
      "    1. Push Element\n",
      "    2. Pop First Element\n",
      "    3. Front Element\n",
      "    4. Rear Element\n",
      "    5. Display Queue\n",
      "    6. Exit\n",
      "     1\n",
      "Enter a Value:  40\n"
     ]
    },
    {
     "name": "stdout",
     "output_type": "stream",
     "text": [
      "['10', '20', '40']\n"
     ]
    },
    {
     "name": "stdin",
     "output_type": "stream",
     "text": [
      "\n",
      "    1. Push Element\n",
      "    2. Pop First Element\n",
      "    3. Front Element\n",
      "    4. Rear Element\n",
      "    5. Display Queue\n",
      "    6. Exit\n",
      "     1\n",
      "Enter a Value:  30\n"
     ]
    },
    {
     "name": "stdout",
     "output_type": "stream",
     "text": [
      "['10', '20', '40', '30']\n"
     ]
    },
    {
     "name": "stdin",
     "output_type": "stream",
     "text": [
      "\n",
      "    1. Push Element\n",
      "    2. Pop First Element\n",
      "    3. Front Element\n",
      "    4. Rear Element\n",
      "    5. Display Queue\n",
      "    6. Exit\n",
      "     1\n",
      "Enter a Value:  50\n"
     ]
    },
    {
     "name": "stdout",
     "output_type": "stream",
     "text": [
      "['10', '20', '40', '30', '50']\n"
     ]
    },
    {
     "name": "stdin",
     "output_type": "stream",
     "text": [
      "\n",
      "    1. Push Element\n",
      "    2. Pop First Element\n",
      "    3. Front Element\n",
      "    4. Rear Element\n",
      "    5. Display Queue\n",
      "    6. Exit\n",
      "     2\n"
     ]
    },
    {
     "name": "stdout",
     "output_type": "stream",
     "text": [
      "['20', '40', '30', '50']\n"
     ]
    },
    {
     "name": "stdin",
     "output_type": "stream",
     "text": [
      "\n",
      "    1. Push Element\n",
      "    2. Pop First Element\n",
      "    3. Front Element\n",
      "    4. Rear Element\n",
      "    5. Display Queue\n",
      "    6. Exit\n",
      "     3\n"
     ]
    },
    {
     "name": "stdout",
     "output_type": "stream",
     "text": [
      "Front Element of Queue is: 20\n"
     ]
    },
    {
     "name": "stdin",
     "output_type": "stream",
     "text": [
      "\n",
      "    1. Push Element\n",
      "    2. Pop First Element\n",
      "    3. Front Element\n",
      "    4. Rear Element\n",
      "    5. Display Queue\n",
      "    6. Exit\n",
      "     4\n"
     ]
    },
    {
     "name": "stdout",
     "output_type": "stream",
     "text": [
      "Rear Element of Queue is: 50\n"
     ]
    },
    {
     "name": "stdin",
     "output_type": "stream",
     "text": [
      "\n",
      "    1. Push Element\n",
      "    2. Pop First Element\n",
      "    3. Front Element\n",
      "    4. Rear Element\n",
      "    5. Display Queue\n",
      "    6. Exit\n",
      "     5\n"
     ]
    },
    {
     "name": "stdout",
     "output_type": "stream",
     "text": [
      "['20', '40', '30', '50']\n"
     ]
    },
    {
     "name": "stdin",
     "output_type": "stream",
     "text": [
      "\n",
      "    1. Push Element\n",
      "    2. Pop First Element\n",
      "    3. Front Element\n",
      "    4. Rear Element\n",
      "    5. Display Queue\n",
      "    6. Exit\n",
      "     6\n"
     ]
    }
   ],
   "source": [
    "queue = []\n",
    "\n",
    "while True:\n",
    "    oprInput = int(input('''\n",
    "    1. Push Element\n",
    "    2. Pop First Element\n",
    "    3. Front Element\n",
    "    4. Rear Element\n",
    "    5. Display Queue\n",
    "    6. Exit\n",
    "    '''))\n",
    "\n",
    "    if oprInput == 1:\n",
    "        userInput = input(\"Enter a Value: \")\n",
    "        queue.append(userInput)\n",
    "        print(queue)\n",
    "\n",
    "    elif oprInput == 2:\n",
    "        if len(queue) == 0:\n",
    "            print(\"Empty Queue\")\n",
    "        else:   \n",
    "            del queue[0]\n",
    "            print(queue)\n",
    "\n",
    "    elif oprInput == 3:\n",
    "        if len(queue) == 0:\n",
    "            print(\"Empty Queue\")\n",
    "        else:\n",
    "            print(\"Front Element of Queue is:\", queue[0])\n",
    "\n",
    "    elif oprInput == 4:\n",
    "        if len(queue) == 0:\n",
    "            print(\"Empty Queue\")\n",
    "        else:\n",
    "            print(\"Rear Element of Queue is:\", queue[-1])\n",
    "\n",
    "    elif oprInput == 5:\n",
    "        print(queue)\n",
    "\n",
    "    elif oprInput == 6:\n",
    "        break\n",
    "\n",
    "    else:\n",
    "        print(\"Invalid Operation\")\n"
   ]
  },
  {
   "cell_type": "markdown",
   "id": "ff0bbf28-7ef9-45a0-8cfc-1bfa188a5e46",
   "metadata": {},
   "source": [
    "# Dictionary (Data Structure)"
   ]
  },
  {
   "cell_type": "markdown",
   "id": "c1cdcc41-58b6-4477-bd6b-7e01bbcd084b",
   "metadata": {},
   "source": [
    "### Understanding Dictionary"
   ]
  },
  {
   "cell_type": "code",
   "execution_count": 172,
   "id": "5eab54e7-2ab6-4a7f-b22c-3c4657bd5a72",
   "metadata": {},
   "outputs": [
    {
     "name": "stdout",
     "output_type": "stream",
     "text": [
      "{'Name': 'Niraj', 'Age': 21, 'Subject': 'Python'}\n",
      "Niraj Python\n"
     ]
    }
   ],
   "source": [
    "d = {\n",
    "    \"Name\":'Niraj',\n",
    "    \"Age\" : 21,\n",
    "    \"Subject\" : 'Python'\n",
    "}\n",
    "\n",
    "print(d)\n",
    "print(d['Name'], d[\"Subject\"])"
   ]
  },
  {
   "cell_type": "code",
   "execution_count": 182,
   "id": "c842db11-36a7-4f8d-bb92-29bb034ce9ee",
   "metadata": {},
   "outputs": [
    {
     "name": "stdout",
     "output_type": "stream",
     "text": [
      "Name\n",
      "Age\n",
      "Subject\n"
     ]
    }
   ],
   "source": [
    "for i in d:\n",
    "    print(i)\n"
   ]
  },
  {
   "cell_type": "code",
   "execution_count": 186,
   "id": "cb38b03c-9a1f-42c3-b2f7-28c79d7adf6f",
   "metadata": {},
   "outputs": [
    {
     "name": "stdout",
     "output_type": "stream",
     "text": [
      "Niraj\n",
      "21\n",
      "Python\n"
     ]
    }
   ],
   "source": [
    "for i in d:\n",
    "    print(d[i])"
   ]
  },
  {
   "cell_type": "code",
   "execution_count": 190,
   "id": "82e794d0-4211-4943-a22d-41711a3dace4",
   "metadata": {},
   "outputs": [
    {
     "name": "stdout",
     "output_type": "stream",
     "text": [
      "Name : Niraj\n",
      "Age : 21\n",
      "Subject : Python\n"
     ]
    }
   ],
   "source": [
    "for i in d:\n",
    "    print(i, \":\" , d[i])"
   ]
  },
  {
   "cell_type": "markdown",
   "id": "8a2e7404-5426-4766-8350-16160cd40bd3",
   "metadata": {},
   "source": [
    "### Functions of Dictionary"
   ]
  },
  {
   "cell_type": "code",
   "execution_count": 196,
   "id": "ddccc66d-20dd-46bd-bc58-deebd1f2c8e5",
   "metadata": {},
   "outputs": [
    {
     "name": "stdout",
     "output_type": "stream",
     "text": [
      "{'Name': 'Niraj', 'Age': 21, 'Subject': 'Python'}\n",
      "Python\n"
     ]
    }
   ],
   "source": [
    "d = {\n",
    "    \"Name\":'Niraj',\n",
    "    \"Age\" : 21,\n",
    "    \"Subject\" : 'Python'\n",
    "}\n",
    "\n",
    "print(d)\n",
    "print(d.get('Subject'))"
   ]
  },
  {
   "cell_type": "code",
   "execution_count": 200,
   "id": "94ec542a-1373-4b8c-a75a-e90ce9044dbc",
   "metadata": {},
   "outputs": [
    {
     "name": "stdout",
     "output_type": "stream",
     "text": [
      "Name\n",
      "Age\n",
      "Subject\n",
      "\n",
      "Niraj\n",
      "21\n",
      "Python\n"
     ]
    }
   ],
   "source": [
    "d = {\n",
    "    \"Name\":'Niraj',\n",
    "    \"Age\" : 21,\n",
    "    \"Subject\" : 'Python'\n",
    "}\n",
    "\n",
    "for i in d.keys():\n",
    "    print(i)\n",
    "print()\n",
    "for v in d.values():\n",
    "    print(v)"
   ]
  },
  {
   "cell_type": "code",
   "execution_count": 202,
   "id": "0bdcf012-5fae-43ca-996f-e090e30d713b",
   "metadata": {},
   "outputs": [
    {
     "name": "stdout",
     "output_type": "stream",
     "text": [
      "Name Niraj\n",
      "Age 21\n",
      "Subject Python\n"
     ]
    }
   ],
   "source": [
    "d = {\n",
    "    \"Name\":'Niraj',\n",
    "    \"Age\" : 21,\n",
    "    \"Subject\" : 'Python'\n",
    "}\n",
    "\n",
    "for k,v in d.items():\n",
    "    print(k, v)"
   ]
  },
  {
   "cell_type": "code",
   "execution_count": 206,
   "id": "be854318-b019-435c-a832-0040710fbc9f",
   "metadata": {},
   "outputs": [
    {
     "name": "stdout",
     "output_type": "stream",
     "text": [
      "{'Name': 'Niraj', 'Age': 21, 'Subject': 'Python'}\n",
      "{'Name': 'Niraj', 'Subject': 'Python'}\n"
     ]
    }
   ],
   "source": [
    "d = {\n",
    "    \"Name\":'Niraj',\n",
    "    \"Age\" : 21,\n",
    "    \"Subject\" : 'Python'\n",
    "}\n",
    "print(d)\n",
    "\n",
    "del d['Age']\n",
    "print(d)"
   ]
  },
  {
   "cell_type": "code",
   "execution_count": 210,
   "id": "f914efa6-f53f-48a9-8924-a96da83c9a6d",
   "metadata": {},
   "outputs": [
    {
     "name": "stdout",
     "output_type": "stream",
     "text": [
      "{'Name': 'Niraj', 'Age': 21, 'Subject': 'Python'}\n",
      "{'Name': 'Niraj', 'Subject': 'Python'}\n"
     ]
    }
   ],
   "source": [
    "d = {\n",
    "    \"Name\":'Niraj',\n",
    "    \"Age\" : 21,\n",
    "    \"Subject\" : 'Python'\n",
    "}\n",
    "print(d)\n",
    "\n",
    "d.pop('Age')\n",
    "print(d)"
   ]
  },
  {
   "cell_type": "code",
   "execution_count": 220,
   "id": "65444dca-c420-4af7-a8c2-e230e3fdeffe",
   "metadata": {},
   "outputs": [
    {
     "name": "stdout",
     "output_type": "stream",
     "text": [
      "{'Name': 'Niraj', 'Age': 21, 'Education': 'Robotics & Automation Engineer'}\n",
      "\n",
      "{'Name': 'Niraj Khankari', 'Age': 21, 'Education': 'Robotics & Automation Engineer'}\n",
      "\n",
      "{'Name': 'Niraj Khankari', 'Age': 19, 'Education': 'Robotics & Automation Engineer'}\n"
     ]
    }
   ],
   "source": [
    "d =dict(Name = 'Niraj', Age = 21, Education = 'Robotics & Automation Engineer')\n",
    "print(d)\n",
    "\n",
    "print()\n",
    "\n",
    "d.update({'Name':'Niraj Khankari'})\n",
    "print(d)\n",
    "\n",
    "print()\n",
    "\n",
    "d['Age'] = 19\n",
    "print(d)"
   ]
  },
  {
   "cell_type": "markdown",
   "id": "7baf757a-48a6-4104-bce3-0fa15eb0e314",
   "metadata": {},
   "source": [
    "### Nested Dictionary"
   ]
  },
  {
   "cell_type": "code",
   "execution_count": 230,
   "id": "f8778708-dc69-47c2-a3c5-615db0fdd529",
   "metadata": {},
   "outputs": [
    {
     "name": "stdout",
     "output_type": "stream",
     "text": [
      "{'Niraj': {'Age': 21, 'Subject': 'Python'}, 'Awishkar': {'Age': 52, 'Subject': 'Hybrid Vehicle'}, 'Mayur': {'Age': 12, 'Subject': 'Science'}}\n",
      "\n",
      "Niraj {'Age': 21, 'Subject': 'Python'}\n",
      "Awishkar {'Age': 52, 'Subject': 'Hybrid Vehicle'}\n",
      "Mayur {'Age': 12, 'Subject': 'Science'}\n",
      "\n",
      "Niraj Python\n",
      "Awishkar Hybrid Vehicle\n",
      "Mayur Science\n"
     ]
    }
   ],
   "source": [
    "student = {\n",
    "    'Niraj': {\"Age\" : 21,\"Subject\" : 'Python'},\n",
    "    'Awishkar': {\"Age\" : 52,\"Subject\" : 'Hybrid Vehicle'},\n",
    "    'Mayur' : {\"Age\" : 12,\"Subject\" : 'Science'}\n",
    "}\n",
    "print(student)\n",
    "\n",
    "print()\n",
    "\n",
    "for k, v in student.items():\n",
    "    print(k, v)\n",
    "\n",
    "print()\n",
    "\n",
    "for k, v in student.items():\n",
    "    print(k, v['Subject'])"
   ]
  },
  {
   "cell_type": "code",
   "execution_count": 232,
   "id": "2919e022-3b7c-434c-a76e-13d1136087e9",
   "metadata": {},
   "outputs": [
    {
     "name": "stdout",
     "output_type": "stream",
     "text": [
      "Niraj 21\n",
      "Awishkar 52\n",
      "Mayur 32\n"
     ]
    }
   ],
   "source": [
    "student['Mayur']['Age'] = 32\n",
    "for k, v in student.items():\n",
    "    print(k, v['Age'])"
   ]
  },
  {
   "cell_type": "code",
   "execution_count": 238,
   "id": "8f7bb03f-eb1f-48ec-9a6e-d600786eda2e",
   "metadata": {},
   "outputs": [
    {
     "name": "stdout",
     "output_type": "stream",
     "text": [
      "{'Age': 32, 'Subject': 'Science'}\n",
      "32\n"
     ]
    }
   ],
   "source": [
    "print(student['Mayur'])\n",
    "print(student['Mayur']['Age'])"
   ]
  },
  {
   "cell_type": "markdown",
   "id": "f9e9f05c-f101-422c-9696-fbfee35ea2cd",
   "metadata": {},
   "source": [
    "# Tuple (Data Structure)"
   ]
  },
  {
   "cell_type": "markdown",
   "id": "023a39f6-072f-40cc-8c6f-6a94a6137975",
   "metadata": {},
   "source": [
    "### Understanding Tuple"
   ]
  },
  {
   "cell_type": "code",
   "execution_count": 250,
   "id": "ddb21614-6283-4183-920d-56e4e696757a",
   "metadata": {},
   "outputs": [
    {
     "name": "stdout",
     "output_type": "stream",
     "text": [
      "(10, 20, 30, 40, 50)\n",
      "50\n",
      "20\n",
      "(10, 20, 30, 40, 50) <class 'tuple'>\n",
      "5\n"
     ]
    }
   ],
   "source": [
    "tuple = (10, 20, 30, 40, 50)\n",
    "print(tuple)\n",
    "print(tuple[-1])\n",
    "print(tuple[1])\n",
    "print(tuple, type(tuple))\n",
    "print(len(tuple))"
   ]
  },
  {
   "cell_type": "code",
   "execution_count": 258,
   "id": "9d02a5df-e46d-467b-9309-aae6ef60dd13",
   "metadata": {},
   "outputs": [
    {
     "name": "stdout",
     "output_type": "stream",
     "text": [
      "50\n",
      "40\n",
      "30\n",
      "20\n",
      "10\n"
     ]
    }
   ],
   "source": [
    "length = len(tuple)\n",
    "for a in range(length-1,-1,-1):\n",
    "    print(tuple[a])"
   ]
  },
  {
   "cell_type": "markdown",
   "id": "45c1c9fb-9aea-40f6-b421-266ff9c84449",
   "metadata": {},
   "source": [
    "### Functions of Tuple"
   ]
  },
  {
   "cell_type": "code",
   "execution_count": 1,
   "id": "4081f3fe-2024-4df8-a85e-11ece0444bed",
   "metadata": {},
   "outputs": [
    {
     "name": "stdout",
     "output_type": "stream",
     "text": [
      "Minimum: 10\n",
      "Maximum: 50\n"
     ]
    }
   ],
   "source": [
    "tuple1 = (10, 20, 30, 40, 50)\n",
    "\n",
    "minimum = min(tuple1)\n",
    "print(\"Minimum:\", minimum)\n",
    "\n",
    "maximum = max(tuple1)\n",
    "print(\"Maximum:\", maximum)\n"
   ]
  },
  {
   "cell_type": "markdown",
   "id": "e108678d-f7dc-4d4b-a099-12729af91ac2",
   "metadata": {},
   "source": [
    "### Understanding Set"
   ]
  },
  {
   "cell_type": "code",
   "execution_count": 3,
   "id": "2f659323-32de-4a03-abe9-d282d1b3c6a8",
   "metadata": {},
   "outputs": [
    {
     "name": "stdout",
     "output_type": "stream",
     "text": [
      "{100, 70, 40, 10, 80, 50, 20, 90, 60, 30}\n"
     ]
    }
   ],
   "source": [
    "set1 = {10, 20, 30, 40, 50, 70, 60, 80, 100, 90}\n",
    "print(set1)"
   ]
  },
  {
   "cell_type": "code",
   "execution_count": 5,
   "id": "235ba907-5f9d-4484-9c18-53cfee23e050",
   "metadata": {},
   "outputs": [
    {
     "name": "stdout",
     "output_type": "stream",
     "text": [
      "100\n",
      "70\n",
      "40\n",
      "10\n",
      "80\n",
      "50\n",
      "20\n",
      "90\n",
      "60\n",
      "30\n"
     ]
    }
   ],
   "source": [
    "for r in set1:\n",
    "    print(r)"
   ]
  },
  {
   "cell_type": "code",
   "execution_count": 7,
   "id": "e32ba250-0159-4b36-bea0-9b68771a88dc",
   "metadata": {},
   "outputs": [
    {
     "name": "stdout",
     "output_type": "stream",
     "text": [
      "{70, 40, 10, 80, 50, 20, 90, 60, 30}\n"
     ]
    }
   ],
   "source": [
    "set1.remove(100)\n",
    "print(set1)"
   ]
  },
  {
   "cell_type": "code",
   "execution_count": 9,
   "id": "85bcf19a-f80d-4c4f-acef-dae4cc008abf",
   "metadata": {},
   "outputs": [
    {
     "name": "stdout",
     "output_type": "stream",
     "text": [
      "{70, 40, 10, 80, 50, 20, 90, 60, 30}\n"
     ]
    }
   ],
   "source": [
    "set1.discard(11)\n",
    "print(set1)"
   ]
  },
  {
   "cell_type": "code",
   "execution_count": 11,
   "id": "71085692-af87-4a3e-b2e8-e0b50dc76497",
   "metadata": {},
   "outputs": [
    {
     "name": "stdout",
     "output_type": "stream",
     "text": [
      "set()\n"
     ]
    }
   ],
   "source": [
    "set1.clear()\n",
    "print(set1)"
   ]
  },
  {
   "cell_type": "code",
   "execution_count": 13,
   "id": "18035883-93d4-4954-ae28-8d8086731e92",
   "metadata": {},
   "outputs": [
    {
     "name": "stdout",
     "output_type": "stream",
     "text": [
      "{11}\n"
     ]
    }
   ],
   "source": [
    "set1.add(11)\n",
    "print(set1)"
   ]
  },
  {
   "cell_type": "code",
   "execution_count": 15,
   "id": "e14c2f20-2d30-4875-ac8c-92caf58de01b",
   "metadata": {},
   "outputs": [
    {
     "name": "stdout",
     "output_type": "stream",
     "text": [
      "{80, 25, 10, 11}\n"
     ]
    }
   ],
   "source": [
    "set2 = {10, 25, 80}\n",
    "set1.update(set2)\n",
    "print(set1)"
   ]
  },
  {
   "cell_type": "markdown",
   "id": "10ed7246-7870-451e-a384-60330de3ff7a",
   "metadata": {},
   "source": [
    "# Functions & Modules"
   ]
  },
  {
   "cell_type": "markdown",
   "id": "f9267411-4b3e-4c44-9ca7-641fb5a315a2",
   "metadata": {},
   "source": [
    "### Functions"
   ]
  },
  {
   "cell_type": "code",
   "execution_count": 28,
   "id": "d08ed479-06b7-487a-bb1c-d1fd836c28d7",
   "metadata": {},
   "outputs": [
    {
     "name": "stdout",
     "output_type": "stream",
     "text": [
      "Hello World\n",
      "Learn Python\n",
      "\n",
      "Hello World\n",
      "Learn Python\n",
      "\n"
     ]
    }
   ],
   "source": [
    "def showMsg():\n",
    "    print('Hello World')\n",
    "    print('Learn Python')\n",
    "    print()\n",
    "\n",
    "showMsg()\n",
    "showMsg()"
   ]
  },
  {
   "cell_type": "code",
   "execution_count": 34,
   "id": "592eb16c-9c8a-42ac-b23c-be648a0cdc7c",
   "metadata": {},
   "outputs": [
    {
     "name": "stdout",
     "output_type": "stream",
     "text": [
      "Hello Nathan\n",
      "Learn Python\n",
      "\n",
      "Hello Sultan\n",
      "Learn Python\n",
      "\n"
     ]
    }
   ],
   "source": [
    "def showMsg(name):\n",
    "    print('Hello',name)\n",
    "    print('Learn Python')\n",
    "    print()\n",
    "\n",
    "showMsg(\"Nathan\")\n",
    "showMsg(\"Sultan\")"
   ]
  },
  {
   "cell_type": "code",
   "execution_count": 3,
   "id": "1c2717be-8b93-463b-99b6-c2475cf4ea04",
   "metadata": {},
   "outputs": [
    {
     "name": "stdout",
     "output_type": "stream",
     "text": [
      "Hello Nathan\n",
      "Language: Python\n",
      "\n",
      "Hello Sultan\n",
      "Language: Java\n",
      "\n"
     ]
    }
   ],
   "source": [
    "def showMsg(language, name=\"World\"):\n",
    "    print(\"Hello\", name)\n",
    "    print(\"Language:\", language)\n",
    "    print()\n",
    "\n",
    "showMsg(name=\"Nathan\", language=\"Python\")\n",
    "showMsg(name=\"Sultan\", language=\"Java\")\n"
   ]
  },
  {
   "cell_type": "code",
   "execution_count": 7,
   "id": "24ec95f5-8f99-4bb0-a3ec-f9a8923da897",
   "metadata": {},
   "outputs": [
    {
     "name": "stdout",
     "output_type": "stream",
     "text": [
      "5\n",
      "10\n",
      "None\n"
     ]
    }
   ],
   "source": [
    "def sum(a, b):\n",
    "    c = a + b\n",
    "    print(c)\n",
    "\n",
    "sum(2, 3)\n",
    "\n",
    "result = sum(5,5)\n",
    "print(result)"
   ]
  },
  {
   "cell_type": "markdown",
   "id": "5bfc2b10-069e-4b30-82e9-e2308a208852",
   "metadata": {},
   "source": [
    "### Modules"
   ]
  },
  {
   "cell_type": "code",
   "execution_count": null,
   "id": "a3151408-fd64-4c06-a9c7-d8291b737c69",
   "metadata": {},
   "outputs": [],
   "source": [
    "def sum(a,b):\n",
    "    c = a + b\n",
    "    return c\n",
    "    \n",
    "def sub(a,b):\n",
    "    c = a - b\n",
    "    return c\n",
    "    \n",
    "def mul(a,b):\n",
    "    c = a * b\n",
    "    return c\n",
    "    \n",
    "def div(a,b):\n",
    "    c = a / b\n",
    "    return c\n",
    "    \n",
    "def exp(a,b):\n",
    "    c = a ** b\n",
    "    return c\n",
    "\n"
   ]
  },
  {
   "cell_type": "code",
   "execution_count": 21,
   "id": "536036e8-7583-4461-ac1a-a89d290d1ff8",
   "metadata": {},
   "outputs": [
    {
     "name": "stdout",
     "output_type": "stream",
     "text": [
      "40\n",
      "-20\n",
      "300\n"
     ]
    }
   ],
   "source": [
    "import mymodule\n",
    "\n",
    "addition = mymodule.sum(10,30)\n",
    "print(addition)\n",
    "\n",
    "subtraction = mymodule.sub(10,30)\n",
    "print(subtraction)\n",
    "\n",
    "multiplication = mymodule.mul(10,30)\n",
    "print(multiplication)"
   ]
  },
  {
   "cell_type": "code",
   "execution_count": 23,
   "id": "ef65e30b-130b-4bd2-a24b-3aa4ccc20b19",
   "metadata": {},
   "outputs": [
    {
     "name": "stdout",
     "output_type": "stream",
     "text": [
      "40\n",
      "-20\n",
      "300\n"
     ]
    }
   ],
   "source": [
    "import mymodule as mm\n",
    "\n",
    "addition = mm.sum(10,30)\n",
    "print(addition)\n",
    "\n",
    "subtraction = mm.sub(10,30)\n",
    "print(subtraction)\n",
    "\n",
    "multiplication = mm.mul(10,30)\n",
    "print(multiplication)"
   ]
  },
  {
   "cell_type": "markdown",
   "id": "dc936052-8768-4550-a2d2-6bd7a1acc353",
   "metadata": {},
   "source": [
    "### Math Module"
   ]
  },
  {
   "cell_type": "code",
   "execution_count": 34,
   "id": "dcf4ef63-ab4b-44a4-b57e-d89d9891daca",
   "metadata": {},
   "outputs": [
    {
     "name": "stdout",
     "output_type": "stream",
     "text": [
      "11\n",
      "100\n",
      "Floor Value : 100\n",
      "10.0\n"
     ]
    }
   ],
   "source": [
    "import math\n",
    "num1 = 10.4\n",
    "num2 = 100.651\n",
    "num3 = -10.0\n",
    "\n",
    "print(math.ceil(num1))\n",
    "print(math.floor(num2))\n",
    "print(\"Floor Value :\", math.floor(num2))\n",
    "print(math.fabs(num3))"
   ]
  },
  {
   "cell_type": "code",
   "execution_count": 42,
   "id": "e5ca144f-7077-4aa5-859e-a0d35f8ca0f9",
   "metadata": {},
   "outputs": [
    {
     "name": "stdout",
     "output_type": "stream",
     "text": [
      "Factorial of Number is : 120\n",
      "Square Root 2.23606797749979\n"
     ]
    }
   ],
   "source": [
    "num = 5\n",
    "print(\"Factorial of Number is :\", math.factorial(num))\n",
    "\n",
    "print(\"Square Root\", math.sqrt(num))"
   ]
  },
  {
   "cell_type": "code",
   "execution_count": 40,
   "id": "c3552e23-9ec0-40e4-9bb4-a688868e699e",
   "metadata": {},
   "outputs": [
    {
     "name": "stdout",
     "output_type": "stream",
     "text": [
      "Fsum 65.0\n"
     ]
    }
   ],
   "source": [
    "list = [11, 12, 13, 14, 15]\n",
    "print(\"Fsum\",math.fsum(list))"
   ]
  },
  {
   "cell_type": "markdown",
   "id": "6e6edf1c-3f39-4239-992d-d9d9285e3a6b",
   "metadata": {},
   "source": [
    "### Random Module"
   ]
  },
  {
   "cell_type": "code",
   "execution_count": 52,
   "id": "5eebf79d-29ac-42f1-ae0e-1c5b5593bd59",
   "metadata": {},
   "outputs": [
    {
     "name": "stdout",
     "output_type": "stream",
     "text": [
      "Randint 7\n"
     ]
    }
   ],
   "source": [
    "import random\n",
    "print(\"Randint\", random.randint(1,10))"
   ]
  },
  {
   "cell_type": "code",
   "execution_count": 56,
   "id": "5e281ff0-c5a1-4682-a38e-4a55d91fa0c0",
   "metadata": {},
   "outputs": [
    {
     "name": "stdout",
     "output_type": "stream",
     "text": [
      "Randrange 7\n"
     ]
    }
   ],
   "source": [
    "print(\"Randrange\", random.randrange(1,10))"
   ]
  },
  {
   "cell_type": "code",
   "execution_count": 58,
   "id": "dd052bb4-2dea-4889-83c0-2999b029f26f",
   "metadata": {},
   "outputs": [
    {
     "name": "stdout",
     "output_type": "stream",
     "text": [
      "Choice 20\n"
     ]
    }
   ],
   "source": [
    "list = [10,20,30,20,50]\n",
    "print(\"Choice\", random.choice(list))"
   ]
  },
  {
   "cell_type": "code",
   "execution_count": 62,
   "id": "63b2d916-34e6-479c-a25f-e1ce6c3a635e",
   "metadata": {},
   "outputs": [
    {
     "name": "stdout",
     "output_type": "stream",
     "text": [
      "Any Random Between 0 to 1 0.001457613927853374\n"
     ]
    }
   ],
   "source": [
    "print(\"Any Random Between 0 to 1\", random.random())"
   ]
  },
  {
   "cell_type": "code",
   "execution_count": 66,
   "id": "bc730fef-53cb-4e07-8796-07a1790a465e",
   "metadata": {},
   "outputs": [
    {
     "name": "stdout",
     "output_type": "stream",
     "text": [
      "Shuffle [10, 20, 30, 20, 50]\n"
     ]
    }
   ],
   "source": [
    "print(\"Shuffle\",list)"
   ]
  },
  {
   "cell_type": "markdown",
   "id": "99bc5470-7b78-4097-8f23-82e954386dcc",
   "metadata": {},
   "source": [
    "### Datetime Module"
   ]
  },
  {
   "cell_type": "code",
   "execution_count": 83,
   "id": "8f2008df-5498-4a44-9169-8bd77aeddf60",
   "metadata": {},
   "outputs": [
    {
     "name": "stdout",
     "output_type": "stream",
     "text": [
      "2025-07-17 00:08:31.255386\n",
      "2024-07-17 00:00:00\n"
     ]
    }
   ],
   "source": [
    "import datetime as dt\n",
    "\n",
    "print(dt.datetime.now())\n",
    "print(dt.datetime(2024, 7, 17))"
   ]
  },
  {
   "cell_type": "code",
   "execution_count": 91,
   "id": "42f3810f-dda6-465b-a87a-6dff3e08a1e6",
   "metadata": {},
   "outputs": [
    {
     "name": "stdout",
     "output_type": "stream",
     "text": [
      "12\n",
      "Thu\n",
      "Thursday\n",
      "Jul\n",
      "July\n"
     ]
    }
   ],
   "source": [
    "mytime = dt.datetime.now()\n",
    "print(mytime.strftime(\"%I\"))\n",
    "print(mytime.strftime(\"%a\"))\n",
    "print(mytime.strftime(\"%A\"))\n",
    "print(mytime.strftime(\"%b\"))\n",
    "print(mytime.strftime(\"%B\"))"
   ]
  },
  {
   "cell_type": "markdown",
   "id": "707315e7-80a8-4c17-83a8-535b10e1913a",
   "metadata": {},
   "source": [
    "# Data Handling"
   ]
  },
  {
   "cell_type": "code",
   "execution_count": 98,
   "id": "b0af4048-7dda-4258-8e2a-9157a7609d4b",
   "metadata": {},
   "outputs": [],
   "source": [
    "# Write Data into File\n",
    "import pickle\n",
    "data = {\n",
    "    \"Name\":'Niraj',\n",
    "    \"Age\" : 21,\n",
    "    \"Subject\" : 'Python',\n",
    "    \"Salary\" : 1000000000\n",
    "}\n",
    "\n",
    "writeData = open(\"my-data.txt\",\"wb\")\n",
    "pickle.dump(data, writeData)\n",
    "writeData.close()"
   ]
  },
  {
   "cell_type": "code",
   "execution_count": 100,
   "id": "5786d1a2-309b-49ef-bfad-44a7aadcc7fa",
   "metadata": {},
   "outputs": [
    {
     "name": "stdout",
     "output_type": "stream",
     "text": [
      "{'Name': 'Niraj', 'Age': 21, 'Subject': 'Python', 'Salary': 1000000000}\n"
     ]
    }
   ],
   "source": [
    "# Read Data from File\n",
    "myFile = open(\"my-data.txt\",\"rb\")\n",
    "loadData = pickle.load(myFile)\n",
    "print(loadData)"
   ]
  },
  {
   "cell_type": "code",
   "execution_count": 108,
   "id": "dae37866-f91b-442a-9d27-4eddb19d9fb8",
   "metadata": {},
   "outputs": [
    {
     "name": "stdout",
     "output_type": "stream",
     "text": [
      "{'Name': 'Niraj', 'Age': 21, 'Subject': 'Python', 'Salary': 1000000000}\n"
     ]
    }
   ],
   "source": [
    "# Create and save a data into Byte Object\n",
    "\n",
    "import pickle\n",
    "data = {\n",
    "    \"Name\":'Niraj',\n",
    "    \"Age\" : 21,\n",
    "    \"Subject\" : 'Python',\n",
    "    \"Salary\" : 1000000000\n",
    "}\n",
    "\n",
    "myData = pickle.dumps(data) # Saving into Byte Object\n",
    "print(pickle.loads(myData))"
   ]
  },
  {
   "cell_type": "markdown",
   "id": "65ee025f-ad2d-4b60-af20-2788127c1d3e",
   "metadata": {},
   "source": [
    "### From Json"
   ]
  },
  {
   "cell_type": "code",
   "execution_count": 121,
   "id": "ba8cea6b-710d-4866-9ba5-b45b8058bc68",
   "metadata": {},
   "outputs": [
    {
     "name": "stdout",
     "output_type": "stream",
     "text": [
      "Json Data is Written\n"
     ]
    }
   ],
   "source": [
    "# Write & Read from Json File\n",
    "import json\n",
    "data = {\n",
    "    \"Name\":'Niraj',\n",
    "    \"Age\" : 21,\n",
    "    \"Subject\" : 'Python',\n",
    "    \"Salary\" : 1000000000\n",
    "}\n",
    "\n",
    "file = open(\"json-data.json\",\"w\")\n",
    "json.dump(data, file, indent=4)\n",
    "print(\"Json Data is Written\")"
   ]
  },
  {
   "cell_type": "code",
   "execution_count": 123,
   "id": "5a24e231-aa4a-4f07-ac11-b08eeceffb1f",
   "metadata": {},
   "outputs": [
    {
     "name": "stdout",
     "output_type": "stream",
     "text": [
      "{'Name': 'Niraj', 'Age': 21, 'Subject': 'Python', 'Salary': 1000000000}\n"
     ]
    }
   ],
   "source": [
    "myFile = open(\"json-data.json\",\"r\")\n",
    "loadedData = json.load(myFile)\n",
    "print(loadedData)"
   ]
  },
  {
   "cell_type": "code",
   "execution_count": 125,
   "id": "6f2aefb8-bfce-4ddb-8ba6-c48968b4c37a",
   "metadata": {},
   "outputs": [
    {
     "name": "stdout",
     "output_type": "stream",
     "text": [
      "{'Name': 'Niraj', 'Age': 21, 'Subject': 'Python', 'Salary': 1000000000}\n"
     ]
    }
   ],
   "source": [
    "with open(\"json-data.json\",\"r\") as file:\n",
    "    loadedData = json.load(file)\n",
    "print(loadedData)"
   ]
  },
  {
   "cell_type": "code",
   "execution_count": 129,
   "id": "bb5c50d6-f605-4ca8-9c88-ad97a92d4c82",
   "metadata": {},
   "outputs": [
    {
     "name": "stdout",
     "output_type": "stream",
     "text": [
      "<class 'dict'>\n",
      "Json_String {\n",
      "    \"Name\": \"Niraj\",\n",
      "    \"Age\": 21,\n",
      "    \"Subject\": \"Python\",\n",
      "    \"Salary\": 1000000000\n",
      "}\n"
     ]
    }
   ],
   "source": [
    "import json\n",
    "data = {\n",
    "    \"Name\":'Niraj',\n",
    "    \"Age\" : 21,\n",
    "    \"Subject\" : 'Python',\n",
    "    \"Salary\" : 1000000000\n",
    "}\n",
    "\n",
    "print(type(data))\n",
    "jsonString = json.dumps(data, indent=4)\n",
    "print(\"Json_String\",jsonString)"
   ]
  },
  {
   "cell_type": "code",
   "execution_count": 131,
   "id": "88d66d88-0812-4671-a405-fb9d2bbb07e4",
   "metadata": {},
   "outputs": [
    {
     "name": "stdout",
     "output_type": "stream",
     "text": [
      "{'Name': 'Niraj', 'Age': 21, 'Subject': 'Python', 'Salary': 1000000000} <class 'dict'>\n"
     ]
    }
   ],
   "source": [
    "pythonObject = json.loads(jsonString)\n",
    "print(pythonObject, type(pythonObject))"
   ]
  },
  {
   "cell_type": "markdown",
   "id": "5b5cd742-78a1-46a0-87ea-c5eec1cead5a",
   "metadata": {},
   "source": [
    "# Exception Handling"
   ]
  },
  {
   "cell_type": "code",
   "execution_count": 5,
   "id": "cf8d9c27-a239-41c1-a338-99391f37d3fa",
   "metadata": {},
   "outputs": [
    {
     "name": "stdout",
     "output_type": "stream",
     "text": [
      "Don't Divide it by Zero, Try Again\n",
      "Execution Completed.\n"
     ]
    }
   ],
   "source": [
    "num1 = 10\n",
    "num2 = 0\n",
    "\n",
    "try:\n",
    "    result = num1/num2\n",
    "except ZeroDivisionError:\n",
    "    print(\"Don't Divide it by Zero, Try Again\")\n",
    "else:\n",
    "    print(result)\n",
    "finally:\n",
    "    print(\"Execution Completed.\")\n"
   ]
  },
  {
   "cell_type": "code",
   "execution_count": 19,
   "id": "dae3f443-7b4c-4124-bfaa-8b3395153d18",
   "metadata": {},
   "outputs": [
    {
     "name": "stdin",
     "output_type": "stream",
     "text": [
      "Enter a first number:  12\n",
      "Enter a second number:  1\n"
     ]
    },
    {
     "name": "stdout",
     "output_type": "stream",
     "text": [
      "12.0\n",
      "Execution Completed.\n"
     ]
    }
   ],
   "source": [
    "num1 = int(input(\"Enter a first number: \"))\n",
    "num2 = int(input(\"Enter a second number: \"))\n",
    "\n",
    "try:\n",
    "    result = num1/num2\n",
    "except TypeError as e:\n",
    "    print(\"An Error Occured {e}\")\n",
    "else:\n",
    "    print(result)\n",
    "finally:\n",
    "    print(\"Execution Completed.\")\n"
   ]
  },
  {
   "cell_type": "code",
   "execution_count": 13,
   "id": "bef17892-ac5c-4f99-bf4d-d48edb6d3b07",
   "metadata": {},
   "outputs": [
    {
     "name": "stdin",
     "output_type": "stream",
     "text": [
      "Enter a first number:  10\n",
      "Enter a second number:  0\n"
     ]
    },
    {
     "name": "stdout",
     "output_type": "stream",
     "text": [
      "An Error Occured {e}\n",
      "Execution Completed.\n"
     ]
    }
   ],
   "source": [
    "num1 = int(input(\"Enter a first number: \"))\n",
    "num2 = int(input(\"Enter a second number: \"))\n",
    "\n",
    "try:\n",
    "    result = num1/num2\n",
    "except (TypeError, ZeroDivisionError) as e:\n",
    "    print(\"An Error Occured {e}\")\n",
    "else:\n",
    "    print(result)\n",
    "finally:\n",
    "    print(\"Execution Completed.\")\n"
   ]
  },
  {
   "cell_type": "code",
   "execution_count": 15,
   "id": "9bfb83f2-95d5-42b0-881b-c9e432bd5bb8",
   "metadata": {},
   "outputs": [
    {
     "name": "stdin",
     "output_type": "stream",
     "text": [
      "Enter a first number:  10\n",
      "Enter a second number:  0\n"
     ]
    },
    {
     "name": "stdout",
     "output_type": "stream",
     "text": [
      "An Error Occured {e}\n",
      "Execution Completed.\n"
     ]
    }
   ],
   "source": [
    "num1 = int(input(\"Enter a first number: \"))\n",
    "num2 = int(input(\"Enter a second number: \"))\n",
    "\n",
    "try:\n",
    "    result = num1/num2\n",
    "except Exception as e:\n",
    "    print(\"An Error Occured {e}\")\n",
    "else:\n",
    "    print(result)\n",
    "finally:\n",
    "    print(\"Execution Completed.\")\n"
   ]
  },
  {
   "cell_type": "code",
   "execution_count": null,
   "id": "b4b37881-dbf1-4259-8044-05bc1f8aaa7d",
   "metadata": {},
   "outputs": [],
   "source": []
  }
 ],
 "metadata": {
  "kernelspec": {
   "display_name": "Python 3 (ipykernel)",
   "language": "python",
   "name": "python3"
  },
  "language_info": {
   "codemirror_mode": {
    "name": "ipython",
    "version": 3
   },
   "file_extension": ".py",
   "mimetype": "text/x-python",
   "name": "python",
   "nbconvert_exporter": "python",
   "pygments_lexer": "ipython3",
   "version": "3.12.4"
  }
 },
 "nbformat": 4,
 "nbformat_minor": 5
}
