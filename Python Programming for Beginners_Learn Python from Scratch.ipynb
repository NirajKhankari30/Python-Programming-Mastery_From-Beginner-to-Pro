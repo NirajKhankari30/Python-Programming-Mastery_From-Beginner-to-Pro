{
 "cells": [
  {
   "cell_type": "markdown",
   "id": "73b82019-02a9-49e3-a159-6ae1660a58a7",
   "metadata": {},
   "source": [
    "# Display Python in Shape Format"
   ]
  },
  {
   "cell_type": "code",
   "execution_count": 5,
   "id": "82f8334f-6e0f-443f-a15d-72fb3c510323",
   "metadata": {},
   "outputs": [
    {
     "name": "stdout",
     "output_type": "stream",
     "text": [
      "PPPP    Y     Y  TTTTTTTT  H     H   OOOOO   N     N\n",
      "P   P    Y   Y       T     H     H  O     O  NN    N\n",
      "PPPP      Y Y        T     HHHHHHH  O     O  N N   N\n",
      "P          Y         T     H     H  O     O  N  N  N\n",
      "P          Y         T     H     H   OOOOO   N   N N\n"
     ]
    }
   ],
   "source": [
    "print(\"PPPP    Y     Y  TTTTTTTT  H     H   OOOOO   N     N\")\n",
    "print(\"P   P    Y   Y       T     H     H  O     O  NN    N\")\n",
    "print(\"PPPP      Y Y        T     HHHHHHH  O     O  N N   N\")\n",
    "print(\"P          Y         T     H     H  O     O  N  N  N\")\n",
    "print(\"P          Y         T     H     H   OOOOO   N   N N\")\n"
   ]
  },
  {
   "cell_type": "markdown",
   "id": "f275a1a1-f134-4e8d-98b8-2815d315110d",
   "metadata": {},
   "source": [
    "# Basic Python Calculator"
   ]
  },
  {
   "cell_type": "code",
   "execution_count": 8,
   "id": "b32e828f-ac70-4ff4-9e13-ef18dc0c4fc8",
   "metadata": {},
   "outputs": [
    {
     "name": "stdin",
     "output_type": "stream",
     "text": [
      "Enter 1st Number:  5\n",
      "Enter 2nd Number:  2\n",
      "Enter 3rd Number:  44\n",
      "Enter 4th Number:  52\n",
      "Enter 5th Number:  5\n"
     ]
    },
    {
     "name": "stdout",
     "output_type": "stream",
     "text": [
      "Sum: 108\n",
      "Average: 21.6\n",
      "Product: 114400\n",
      "Maximum: 52\n",
      "Minimum: 2\n"
     ]
    }
   ],
   "source": [
    "a = eval(input(\"Enter 1st Number: \"))\n",
    "b = eval(input(\"Enter 2nd Number: \"))\n",
    "c = eval(input(\"Enter 3rd Number: \"))\n",
    "d = eval(input(\"Enter 4th Number: \"))\n",
    "e = eval(input(\"Enter 5th Number: \"))\n",
    "\n",
    "numbers = [a, b, c, d, e]\n",
    "\n",
    "# Calculate sum\n",
    "sum_result = sum(numbers)\n",
    "\n",
    "# Calculate average\n",
    "average_result = sum_result / len(numbers)\n",
    "\n",
    "# Calculate product\n",
    "product_result = 1\n",
    "for num in numbers:\n",
    "    product_result *= num\n",
    "\n",
    "# Find max and min\n",
    "max_result = max(numbers)\n",
    "min_result = min(numbers)\n",
    "\n",
    "print(\"Sum:\", sum_result)\n",
    "print(\"Average:\", average_result)\n",
    "print(\"Product:\", product_result)\n",
    "print(\"Maximum:\", max_result)\n",
    "print(\"Minimum:\", min_result)\n"
   ]
  },
  {
   "cell_type": "markdown",
   "id": "d85134d0-744b-42cd-94c4-aaf4dd248d5b",
   "metadata": {},
   "source": [
    "# MABLIBS GAME"
   ]
  },
  {
   "cell_type": "code",
   "execution_count": 21,
   "id": "88f5a5e5-2d19-4fb1-9d2e-a8c99391b0cf",
   "metadata": {},
   "outputs": [
    {
     "name": "stdin",
     "output_type": "stream",
     "text": [
      "Enter your Colour Name: Blue\n",
      "Enter Adjective: Vast\n",
      "Enter Your Love's Name: Niraj\n"
     ]
    },
    {
     "name": "stdout",
     "output_type": "stream",
     "text": [
      "The Sky is Blue and Vast\n",
      "Sugar is Vast\n",
      "I Love You Niraj\n"
     ]
    }
   ],
   "source": [
    "colour = input(\"Enter your Colour Name:\")\n",
    "adjective = input(\"Enter Adjective:\")\n",
    "person = input(\"Enter Your Love's Name:\")\n",
    "\n",
    "\n",
    "print(\"The Sky is \" + colour + \" and \" + adjective)\n",
    "print(\"Sugar is \" + adjective)\n",
    "print(\"I Love You \" + person)"
   ]
  },
  {
   "cell_type": "markdown",
   "id": "93c060b1-76ae-403c-8c71-084258934e51",
   "metadata": {},
   "source": [
    "# Building a Guessing Game"
   ]
  },
  {
   "cell_type": "code",
   "execution_count": 40,
   "id": "178d19a2-9814-402f-9e04-01d6a03a97a6",
   "metadata": {},
   "outputs": [
    {
     "name": "stdout",
     "output_type": "stream",
     "text": [
      "Hint : Name of the Owner\n"
     ]
    },
    {
     "name": "stdin",
     "output_type": "stream",
     "text": [
      "Guess the Word:  Raj\n",
      "Guess the Word:  Rajesh\n",
      "Guess the Word:  Rajeshwar\n",
      "Guess the Word:  Rajeshwari\n",
      "Guess the Word:  Niraj\n"
     ]
    },
    {
     "name": "stdout",
     "output_type": "stream",
     "text": [
      "You WON!!!\n"
     ]
    }
   ],
   "source": [
    "the_word = \"Niraj\"\n",
    "guess = \" \"\n",
    "guess_count = 0\n",
    "guess_limit = 5\n",
    "out_of_guesses = False\n",
    "\n",
    "print(f\"Hint : Name of the Owner\")\n",
    "\n",
    "while guess != the_word and not(out_of_guesses):\n",
    "    if guess_count < guess_limit:\n",
    "        guess = input(\"Guess the Word: \")\n",
    "        guess_count += 1\n",
    "    else:\n",
    "        out_of_guesses = True\n",
    "\n",
    "if out_of_guesses:\n",
    "    print(\"You LOST!!!\")\n",
    "else:\n",
    "    print(\"You WON!!!\")"
   ]
  },
  {
   "cell_type": "markdown",
   "id": "8bbbb8e3-80f7-4446-ac13-7dbb0dd3c4a5",
   "metadata": {},
   "source": [
    "# Building a Translator"
   ]
  },
  {
   "cell_type": "code",
   "execution_count": 51,
   "id": "cd9c788f-5d43-40e8-b632-c94900d9db15",
   "metadata": {},
   "outputs": [
    {
     "name": "stdin",
     "output_type": "stream",
     "text": [
      "Enter you keyword:  Rajesh is running on runner rigorously.\n"
     ]
    },
    {
     "name": "stdout",
     "output_type": "stream",
     "text": [
      " rrrrrrrrrrrr\n"
     ]
    }
   ],
   "source": [
    "def translate(phrase):\n",
    "    translation = \" \"\n",
    "    for letter in phrase:\n",
    "        if letter in \"AEIOUaeiou\":\n",
    "            translation = translation + 'r'\n",
    "        else:\n",
    "            translation + translation + letter\n",
    "    return translation\n",
    "\n",
    "print(translate(input(\"Enter you keyword: \")))"
   ]
  },
  {
   "cell_type": "code",
   "execution_count": null,
   "id": "194833cf-4353-4893-9d21-2006d747cc36",
   "metadata": {},
   "outputs": [],
   "source": []
  }
 ],
 "metadata": {
  "kernelspec": {
   "display_name": "Python 3 (ipykernel)",
   "language": "python",
   "name": "python3"
  },
  "language_info": {
   "codemirror_mode": {
    "name": "ipython",
    "version": 3
   },
   "file_extension": ".py",
   "mimetype": "text/x-python",
   "name": "python",
   "nbconvert_exporter": "python",
   "pygments_lexer": "ipython3",
   "version": "3.12.4"
  }
 },
 "nbformat": 4,
 "nbformat_minor": 5
}
